{
 "cells": [
  {
   "cell_type": "markdown",
   "metadata": {},
   "source": [
    "<font color='darkblue'>\n",
    "### Student: Chen Weiyi, weiyi.alan.chen@gmail.com"
   ]
  },
  {
   "cell_type": "markdown",
   "metadata": {},
   "source": [
    "# MTH9879 Homework 10\n",
    "\n",
    "Assigned: April 28, 2015.\n",
    "Due: May 12, 2015 by 6pm. \n",
    "\n",
    "Late homework **will not be accepted**.\n",
    "\n",
    "$$\n",
    "\\newcommand{\\supp}{\\mathrm{supp}}\n",
    "\\newcommand{\\E}{\\mathbb{E}}\n",
    "\\newcommand{\\Eof}[1]{\\mathbb{E}\\left[ #1 \\right]}\n",
    "\\def\\Cov{{ \\mbox{Cov} }}\n",
    "\\def\\Var{{ \\mbox{Var} }}\n",
    "\\newcommand{\\1}{\\mathbf{1} }\n",
    "\\newcommand{\\PP}{\\mathbb{P} }\n",
    "%\\newcommand{\\Pr}{\\mathrm{Pr} }\n",
    "\\newcommand{\\QQ}{\\mathbb{Q} }\n",
    "\\newcommand{\\RR}{\\mathbb{R} }\n",
    "\\newcommand{\\DD}{\\mathbb{D} }\n",
    "\\newcommand{\\HH}{\\mathbb{H} }\n",
    "\\newcommand{\\spn}{\\mathrm{span} }\n",
    "\\newcommand{\\cov}{\\mathrm{cov} }\n",
    "\\newcommand{\\sgn}{\\mathrm{sgn} }\n",
    "\\newcommand{\\HS}{\\mathcal{L}_{\\mathrm{HS}} }\n",
    "%\\newcommand{\\HS}{\\mathrm{HS} }\n",
    "\\newcommand{\\trace}{\\mathrm{trace} }\n",
    "\\newcommand{\\LL}{\\mathcal{L} }\n",
    "%\\newcommand{\\LL}{\\mathrm{L} }\n",
    "\\newcommand{\\s}{\\mathcal{S} }\n",
    "\\newcommand{\\ee}{\\mathcal{E} }\n",
    "\\newcommand{\\ff}{\\mathcal{F} }\n",
    "\\newcommand{\\hh}{\\mathcal{H} }\n",
    "\\newcommand{\\bb}{\\mathcal{B} }\n",
    "\\newcommand{\\dd}{\\mathcal{D} }\n",
    "\\newcommand{\\g}{\\mathcal{G} }\n",
    "\\newcommand{\\p}{\\partial}\n",
    "\\newcommand{\\half}{\\frac{1}{2} }\n",
    "\\newcommand{\\T}{\\mathcal{T} }\n",
    "\\newcommand{\\bi}{\\begin{itemize}}\n",
    "\\newcommand{\\ei}{\\end{itemize}}\n",
    "\\newcommand{\\beq}{\\begin{equation}}\n",
    "\\newcommand{\\eeq}{\\end{equation}}\n",
    "\\newcommand{\\beas}{\\begin{eqnarray*}}\n",
    "\\newcommand{\\eeas}{\\end{eqnarray*}}\n",
    "\\newcommand{\\cO}{\\mathcal{O}}\n",
    "\\newcommand{\\cC}{\\mathcal{C}}\n",
    "\\newcommand{\\cF}{\\mathcal{F}}\n",
    "\\newcommand{\\cL}{\\mathcal{L}}\n",
    "\\newcommand{\\BS}{\\text{BS}}\n",
    "$$"
   ]
  },
  {
   "cell_type": "markdown",
   "metadata": {},
   "source": [
    "<font color = \"red\">Homework is to be done by each student individually.  To receive full credit, you must email a completed copy of this iPython notebook to Yu Gan (yugan323@gmail.com), Fubo Shi (fubo.shi.baruch@gmail.com), and Tai-Ho Wang (tai-ho.wang@baruch.cuny.edu) by the due date and time.  All R-code must run correctly and solutions must be written up neatly in Markdown/LaTeX format.\n",
    "\n",
    "<font color=\"blue\">If you encounter problems with Markdown/LaTeX or iPython notebook, please contact your TAs Yu Gan and/or Fubo Shi.\n"
   ]
  },
  {
   "cell_type": "markdown",
   "metadata": {},
   "source": [
    "### Set up R environment"
   ]
  },
  {
   "cell_type": "code",
   "execution_count": 1,
   "metadata": {
    "collapsed": false
   },
   "outputs": [],
   "source": [
    "%load_ext rpy2.ipython"
   ]
  },
  {
   "cell_type": "markdown",
   "metadata": {},
   "source": [
    "## Numerical solution of Fredholm equation"
   ]
  },
  {
   "cell_type": "markdown",
   "metadata": {},
   "source": [
    "### 1. (12 points)\n",
    "Consider the Fredholm equation (7) in Lecture 10:\n",
    "\n",
    "$$\n",
    "\\int_0^T{G}(|t-s|)\\,dx_s =\\text{const.}\\qquad\\text{for all $t\\in [0,T]$.}\n",
    "$$\n",
    "\n",
    "Define $t_i:={i}\\frac T{N}$. One way to discretize this integral equation is as follows:\n",
    "\n",
    "$$\n",
    "\\sum_{j=1}^N G_{ij}\\,v_j=\\text{const.}\n",
    "$$\n",
    "\n",
    "where $v_j=x_{t_{j}}-x_{t_{j-1}}$ and\n",
    "\n",
    "<a name=\"eq:1\"></a>(1)\n",
    "$$\n",
    "G_{ij}=\n",
    "\\int_{t_{i-1}}^{t_i}\\,\\int_{t_{j-1}}^{t_j}\\,G(|t-s|)\\,ds\\,dt.\n",
    "$$\n",
    "\n",
    "(a) Derive an explicit expression for the $G_{ij}$ in the case\n",
    "$$\n",
    "G(\\tau)=\\frac {1}{(1+\\tau)^2}.\n",
    "$$\n",
    "You will need to compute separate expressions for the cases $i \\neq j$ and $i=j$.\n",
    "\n",
    "(b) With $N=512$, use matrix algebra to solve equation [(1)](#eq:1) numerically with this decay kernel.\n",
    "\n",
    "(c) Plot your results - you should end up with something like the top figure in Figure 2 of Lecture 10.\n",
    "\n"
   ]
  },
  {
   "cell_type": "markdown",
   "metadata": {},
   "source": [
    "<font color='darkblue'>\n",
    "\n",
    "### Solution\n",
    "**(a)** When $i < j$ , substitute the expression of $G(\\tau)$ to \n",
    "\n",
    "$$\n",
    "G_{ij} = \\int_{t_{i-1}}^{t_i}\\,\\int_{t_{j-1}}^{t_j}\\,G(|t-s|)\\,ds\\,dt.\n",
    "$$\n",
    "\n",
    "we derive\n",
    "\n",
    "\\begin{equation}\n",
    "G_{ij} = \\int_{t_{i-1}}^{t_i}\\,\\int_{t_{j-1}}^{t_j}\\,\\frac{1}{(1+s-t)^2}\\,ds\\,dt \n",
    "= \\ln\\left(\\frac{1+t_{j-1}-t_{i-1}}{1+t_{j-1}-t_i} \\cdot \\frac{1+t_j-t_i}{1+t_j-t_{i-1}} \\right)\n",
    "\\end{equation}\n",
    "\n",
    "guaranteed positive inside $\\ln$, similarly when $i > j$,\n",
    "\n",
    "\\begin{equation}\n",
    "G_{ij} = \\ln\\left(\\frac{1+t_{i-1}-t_{j-1}}{1+t_{i-1}-t_j} \\cdot \\frac{1+t_i-t_j}{1+t_i-t_{j-1}}\\right)\n",
    "\\end{equation}\n",
    "\n",
    "When $i = j$, we need to separate the inner integral: \n",
    "\n",
    "\\begin{equation}\n",
    "G_{ij} = \\int_{t_{i-1}}^{t_i}\\,\\int_{t_{i-1}}^{t}\\,\\frac{1}{(1+t-s)^2}\\,ds\\,dt + \\int_{t_{i-1}}^{t_i}\\,\\int_{t}^{t_i}\\,\\frac{1}{(1+s-t)^2}\\,ds\\,dt = 2(t_i-t_{i-1}) - 2\\ln(1+t_i-t_{i-1})\n",
    "\\end{equation}"
   ]
  },
  {
   "cell_type": "code",
   "execution_count": 2,
   "metadata": {
    "collapsed": false
   },
   "outputs": [
    {
     "data": {
      "image/png": "[encoded data removed]"
     },
     "metadata": {},
     "output_type": "display_data"
    }
   ],
   "source": [
    "%%R\n",
    "\n",
    "# (b) With N=512, use matrix algebra to solve equation (1) numerically with this decay kernel.\n",
    "\n",
    "N <- 512\n",
    "\n",
    "G <- function(i,j,dt){\n",
    "    # function to calculate G_ij\n",
    "    if (i == j) {\n",
    "        return(2*dt - 2*log(1 + dt))\n",
    "    } \n",
    "    else if (i > j) {\n",
    "        return(log((1+(i-j)*dt)*(1+(i-j)*dt) / ((1+(i-j-1)*dt)*(1+(i-j+1)*dt))))\n",
    "    }\n",
    "    else {\n",
    "        return(log((1+(j-i)*dt)*(1+(j-i)*dt) / ((1+(j-i-1)*dt)*(1+(j-i+1)*dt))))\n",
    "    }\n",
    "}\n",
    "\n",
    "# To solve equation (1), we need to construct mat_G and ls_const\n",
    "vec_const = rep(1/10000,N)\n",
    "mat_G = matrix(0,N,N)\n",
    "for (i in 1:N) {\n",
    "    for (j in 1:N) {\n",
    "        mat_G[i,j] = G(i,j,1/N)    \n",
    "    }\n",
    "}\n",
    "\n",
    "# Solve\n",
    "vec_v = solve(mat_G) %*% vec_const\n",
    "\n",
    "# (c) Plot your results \n",
    "plot(seq(1/N, 1, 1/N), vec_v, type = \"l\", col = \"red\", xlab = \"Time s\", ylab = \"u(s)\")"
   ]
  },
  {
   "cell_type": "markdown",
   "metadata": {},
   "source": [
    "## Optimal interval VWAP strategy in the square-root model"
   ]
  },
  {
   "cell_type": "markdown",
   "metadata": {},
   "source": [
    "### 2. (12 points)\n",
    "\n",
    "Consider equation (11) of Lecture 10 for the cost of liquidation using interval VWAPs:\n",
    "\n",
    "$$\n",
    "\\cC=\\sum_{j=1}^m\\,C_{jj}+\\sum_{i< j}^m\\,C_{ji}.\n",
    "$$\n",
    "\n",
    "(a) With $m=3$ (that is 3 interval VWAP slices), and assuming the square-root process where\n",
    "\n",
    "$$\n",
    "h(v)=\\frac  3 4 \\sigma\\,\\sqrt{\\frac{v}{V}} =\\frac  3 4 \\sigma\\,\\sqrt{\\frac{\\dot x}{V}}, \n",
    "\\quad \\mbox{ and } \\quad\n",
    "G(\\tau)=1/\\sqrt{\\tau},\n",
    "$$\n",
    "\n",
    "compute explicit expressions for the matrix elements $C_{ji}$ in terms of $x_1$, $x_2$, $t_1$, and $t_2$ (noting that $t_0=0$ and $t_3=T$).\n",
    "\n",
    "(b) Minimize the resulting expression for the expected cost of liquidation numerically to find optimal choices of $x_1$ and $x_2$ when $t_1=T/3$, and $t_2=2 \\,T/3$.\n",
    "\n",
    "(c) What is the percentage saving from trading with the 3-slice strategy relative to a VWAP?\n",
    "\n",
    "(d) Explain to your non-mathematical manager why this strategy has lower expected cost."
   ]
  },
  {
   "cell_type": "markdown",
   "metadata": {},
   "source": [
    "<font color='darkblue'>\n",
    "\n",
    "#### Solution\n",
    "**(a)** According to the lecture notes,\n",
    "\n",
    "\\begin{equation}\n",
    "C_{ii}=\\frac{x_i}{t_{i}-t_{i-1}}\\,h(v_i)\\,\\int_{t_{i-1}}^{t_i}\\,dt\\,\\int_{t_{i-1}}^{t}\\,\\frac{1}{\\sqrt{t-s}}\\,ds=\n",
    "\\frac{4}{3}\\,x_i\\,h(v_i)\\,\\sqrt{t_i-t_{i-1}} = \\frac{\\sigma}{\\sqrt{V}} x_i^{3/2}\n",
    "\\end{equation}\n",
    "\n",
    "and\n",
    "\n",
    "\\begin{eqnarray*}\n",
    "C_{ji}&=&\\frac{x_j}{t_{j}-t_{j-1}}\\,h(v_i)\\,\\int_{t_{j-1}}^{t_j}\\,dt\\,\\int_{t_{i-1}}^{t_i}\\,\\frac{1}{\\sqrt{t-s}}\\,ds\\\\&=&\n",
    "\\frac{4}{3}\\,x_j\\,h(v_i)\\,\\frac{\\left(t_{j}-t_{i-1}\\right)^{3/2}\n",
    "-\\left(t_{j}-t_{i}\\right)^{3/2}\n",
    "-\\left(t_{j-1}-t_{i-1}\\right)^{3/2}\n",
    "+\\left(t_{j-1}-t_{i}\\right)^{3/2}\n",
    "}{t_{j}-t_{j-1}}\\\\&=&\n",
    "\\frac{\\sigma}{\\sqrt{V}}x_j\\sqrt{x_i}\\,\\frac{\\left(t_{j}-t_{i-1}\\right)^{3/2} - \\left(t_{j}-t_{i}\\right)^{3/2} - \\left(t_{j-1}-t_{i-1}\\right)^{3/2} + \\left(t_{j-1}-t_{i}\\right)^{3/2} }{(t_{j}-t_{j-1})\\sqrt{t_{i}-t_{i-1}}}\n",
    "\\end{eqnarray*}\n",
    "\n",
    "**(b)** When $t_1=T/3$, and $t_2=2 \\,T/3$:\n",
    "\n",
    "\\begin{eqnarray}\n",
    "C_{11} &=& \\frac{\\sigma}{\\sqrt{V}} x_1^{3/2} \\\\\n",
    "C_{21} &=& (2\\sqrt{2}-2)\\frac{\\sigma}{\\sqrt{V}}x_2\\sqrt{x_1}\\\\\n",
    "C_{22} &=& \\frac{\\sigma}{\\sqrt{V}} x_2^{3/2} \\\\\n",
    "C_{31} &=& (3\\sqrt{3}-4\\sqrt{2}+1)\\frac{\\sigma}{\\sqrt{V}}x_3\\sqrt{x_1}\\\\\n",
    "C_{32} &=& (2\\sqrt{2}-2)\\frac{\\sigma}{\\sqrt{V}}x_3\\sqrt{x_2}\\\\\n",
    "C_{33} &=& \\frac{\\sigma}{\\sqrt{V}} x_3^{3/2} \\\\\n",
    "\\end{eqnarray}"
   ]
  },
  {
   "cell_type": "code",
   "execution_count": 3,
   "metadata": {
    "collapsed": false
   },
   "outputs": [
    {
     "data": {
      "text/plain": [
       "$par\n",
       "[1] 6.471808e+03 5.276104e-09\n",
       "\n",
       "$value\n",
       "[1] 883282.3\n",
       "\n",
       "$counts\n",
       "function gradient \n",
       "     249       NA \n",
       "\n",
       "$convergence\n",
       "[1] 0\n",
       "\n",
       "$message\n",
       "NULL\n",
       "\n"
      ]
     },
     "metadata": {},
     "output_type": "display_data"
    }
   ],
   "source": [
    "%%R\n",
    "\n",
    "cost <- function (x){\n",
    "    # @summary: cost function\n",
    "    # @param c11, c22, c33: cost parameters for i=j\n",
    "    # @param c21, c32, c31: cost parameters for i<j\n",
    "    c11 = x[1]^1.5\n",
    "    c22 = x[2]^1.5\n",
    "    c33 = (10000 - x[1] - x[2])^1.5\n",
    "    c21 = (2*sqrt(2)-2) * x[2] * sqrt(x[1])\n",
    "    c32 = (2*sqrt(2)-2) * (10000 - x[1] - x[2]) * sqrt(x[2])\n",
    "    c31 = (3*sqrt(3)-4*sqrt(2)+1) * (10000 - x[1] - x[2]) * sqrt(x[1])\n",
    "    return (c11 + c22 + c33 + c21 + c32 + c31)\n",
    "}\n",
    "\n",
    "# Optimization\n",
    "optim(c(2000,2000), cost)"
   ]
  },
  {
   "cell_type": "markdown",
   "metadata": {},
   "source": [
    "<font color='darkblue'>Therefore, the distrubtion of total shares at three layers should be 64.72%, 0% and 35.28% respectively."
   ]
  },
  {
   "cell_type": "markdown",
   "metadata": {},
   "source": [
    "<font color='darkblue'>\n",
    "**(c)**"
   ]
  },
  {
   "cell_type": "code",
   "execution_count": 5,
   "metadata": {
    "collapsed": false
   },
   "outputs": [
    {
     "data": {
      "text/plain": [
       "[1] 11.67179\n"
      ]
     },
     "metadata": {},
     "output_type": "display_data"
    }
   ],
   "source": [
    "%%R\n",
    "\n",
    "# What is the percentage saving from trading with the 3-slice strategy relative to a VWAP?\n",
    "\n",
    "cost_vwap = 10000*sqrt(10000)\n",
    "cost_3layer = cost(c(6472,0))\n",
    "print((cost_vwap-cost_3layer)/cost_vwap*100)"
   ]
  },
  {
   "cell_type": "markdown",
   "metadata": {},
   "source": [
    "<font color='darkblue'>\n",
    "\n",
    "The percentage saving from trading with the 3-slice strategy relative to a VWAP is 11.67%.\n",
    "\n",
    "**(d)** This strategy has lower expected cost is mainly because there exists a temporary component in the market impact. \n",
    "\n",
    "Tranditionally, we sell all shares continuously then the market impact will be accumelated when time goes by. But in this strategy, there is a cool-down / wait for the market impact between selling different layers, then the expected cost in slippage will lower."
   ]
  }
 ],
 "metadata": {
  "kernelspec": {
   "display_name": "Python 2",
   "language": "python",
   "name": "python2"
  },
  "language_info": {
   "codemirror_mode": {
    "name": "ipython",
    "version": 2
   },
   "file_extension": ".py",
   "mimetype": "text/x-python",
   "name": "python",
   "nbconvert_exporter": "python",
   "pygments_lexer": "ipython2",
   "version": "2.7.9"
  }
 },
 "nbformat": 4,
 "nbformat_minor": 0
}
