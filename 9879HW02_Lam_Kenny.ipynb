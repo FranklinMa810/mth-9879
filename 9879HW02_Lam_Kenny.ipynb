{
 "metadata": {
  "name": "",
  "signature": "sha256:a13e63d8955305a7b7f6c8a17fcb6d736a2a0d4330fabb5a4814f647ad328824"
 },
 "nbformat": 3,
 "nbformat_minor": 0,
 "worksheets": [
  {
   "cells": [
    {
     "cell_type": "markdown",
     "metadata": {},
     "source": [
      "### Kenny Lam"
     ]
    },
    {
     "cell_type": "markdown",
     "metadata": {},
     "source": [
      "# MTH9879 Homework 2\n",
      "\n",
      "Assigned: February 10, 2015.\n",
      "Due: February 24, 2015 by 6pm. \n",
      "\n",
      "Late homework **will not be accepted**.\n",
      "\n",
      "$$\n",
      "\\newcommand{\\supp}{\\mathrm{supp}}\n",
      "\\newcommand{\\E}{\\mathbb{E} }\n",
      "\\def\\Cov{{ \\mbox{Cov} }}\n",
      "\\def\\Var{{ \\mbox{Var} }}\n",
      "\\newcommand{\\1}{\\mathbf{1} }\n",
      "\\newcommand{\\PP}{\\mathbb{P} }\n",
      "%\\newcommand{\\Pr}{\\mathrm{Pr} }\n",
      "\\newcommand{\\QQ}{\\mathbb{Q} }\n",
      "\\newcommand{\\RR}{\\mathbb{R} }\n",
      "\\newcommand{\\DD}{\\mathbb{D} }\n",
      "\\newcommand{\\HH}{\\mathbb{H} }\n",
      "\\newcommand{\\spn}{\\mathrm{span} }\n",
      "\\newcommand{\\cov}{\\mathrm{cov} }\n",
      "\\newcommand{\\sgn}{\\mathrm{sgn} }\n",
      "\\newcommand{\\HS}{\\mathcal{L}_{\\mathrm{HS}} }\n",
      "%\\newcommand{\\HS}{\\mathrm{HS} }\n",
      "\\newcommand{\\trace}{\\mathrm{trace} }\n",
      "\\newcommand{\\LL}{\\mathcal{L} }\n",
      "%\\newcommand{\\LL}{\\mathrm{L} }\n",
      "\\newcommand{\\s}{\\mathcal{S} }\n",
      "\\newcommand{\\ee}{\\mathcal{E} }\n",
      "\\newcommand{\\ff}{\\mathcal{F} }\n",
      "\\newcommand{\\hh}{\\mathcal{H} }\n",
      "\\newcommand{\\bb}{\\mathcal{B} }\n",
      "\\newcommand{\\dd}{\\mathcal{D} }\n",
      "\\newcommand{\\g}{\\mathcal{G} }\n",
      "\\newcommand{\\p}{\\partial}\n",
      "\\newcommand{\\half}{\\frac{1}{2} }\n",
      "\\newcommand{\\T}{\\mathcal{T} }\n",
      "\\newcommand{\\bi}{\\begin{itemize}}\n",
      "\\newcommand{\\ei}{\\end{itemize}}\n",
      "\\newcommand{\\beq}{\\begin{equation}}\n",
      "\\newcommand{\\eeq}{\\end{equation}}\n",
      "\\newcommand{\\beas}{\\begin{eqnarray*}}\n",
      "\\newcommand{\\eeas}{\\end{eqnarray*}}\n",
      "\\newcommand{\\cO}{\\mathcal{O}}\n",
      "\\newcommand{\\cF}{\\mathcal{F}}\n",
      "\\newcommand{\\cL}{\\mathcal{L}}\n",
      "\\newcommand{\\BS}{\\text{BS}}\n",
      "$$"
     ]
    },
    {
     "cell_type": "markdown",
     "metadata": {},
     "source": [
      "<font color = \"red\">Homework is to be done by each student individually.  To receive full credit, you must email a completed copy of this iPython notebook to Yu Gan (yugan323@gmail.com), Fubo Shi (fubo.shi.baruch@gmail.com), and Tai-Ho Wang (tai-ho.wang@baruch.cuny.edu) by the due date and time.  All R-code must run correctly and solutions must be written up neatly in Markdown/LaTeX format.\n",
      "\n",
      "<font color=\"blue\">If you encounter problems with Markdown/LaTeX or iPython notebook, please contact your TAs Yu Gan and/or Fubo Shi.\n"
     ]
    },
    {
     "cell_type": "markdown",
     "metadata": {},
     "source": [
      "### 0. (0 points) \n",
      "\n",
      "Read Chapter 12 of Hasbrouck and Section 6.4 of Foucault, Pagano and R&ouml;ell.\n"
     ]
    },
    {
     "cell_type": "markdown",
     "metadata": {},
     "source": [
      "## The Parlour (1998) model"
     ]
    },
    {
     "cell_type": "markdown",
     "metadata": {},
     "source": [
      "### 1. (10 points) \n",
      "Consider the first step $t = 1$ of the 3-step order book case presented in the lecture slides. Suppose that the order book at (or just before) $t = 1$ has one share offered and one share bid ($n_B = n_A = 1$).\n",
      "\n",
      "Give the probabilities as of a market buy, market sell, limit buy and limit sell at $t = 1$,\n",
      "You may use my Mathematica notebook *Parlour.nb* as a guide (if you wish)."
     ]
    },
    {
     "cell_type": "markdown",
     "metadata": {},
     "source": [
      "####<font color = \"green\">Solution<font color = \"black\">\n",
      "We reuse the calculations from the provide Parlour.nb notebook.  The analysis for $t=3$ and $t=2$ are largely unchanged.  Thus the probability of a market buy/sell at $t=3$ is $\\frac{5}{22}$ and the probability of a market buy/sell given that the bid/offer queue is empty is also  $\\frac{5}{22}$.  The a limit buy/sell placed at at $t=1$ will only get filled if a market sell/buy occurs at both $t=2$ and $t=3$."
     ]
    },
    {
     "cell_type": "code",
     "collapsed": false,
     "input": [
      "from sympy import Rational, Symbol\n",
      "from sympy.solvers import solve\n",
      "\n",
      "### Q1 ###\n",
      "\n",
      "#Parameters\n",
      "v=Rational(11,2)\n",
      "a=6\n",
      "b=5\n",
      "\n",
      "#Variables\n",
      "beta = Symbol('beta')\n",
      "\n",
      "#CDF for uniform dist on (0,2)\n",
      "pr = lambda(x): 1 if x >= 2 else 0 if x <= 0 else x/2\n",
      "\n",
      "#Probabilities\n",
      "pMS = {}\n",
      "pLS = {}\n",
      "pMB = {}\n",
      "pLB = {}\n",
      "\n",
      "#t=3\n",
      "pMS[3]=pMB[3]=Rational(5,22)\n",
      "\n",
      "#t=2\n",
      "pMB[(1,2,2)]=pMS[(2,1,2)]=Rational(5,22)\n",
      "\n",
      "#t=1 Sell Orders\n",
      "#Probability of filling a limit sell\n",
      "pLSFill=pMB[(1,2,2)]*pMB[3] \n",
      "\n",
      "#Benefit functions for sell orders\n",
      "benLS=lambda(x): (a-x*v)*pLSFill\n",
      "benMS=lambda(x): (b-x*v)\n",
      "\n",
      "#Solve for crossing points\n",
      "x1s=solve(benLS(beta)-benMS(beta),beta)[0]\n",
      "x2s=solve(benLS(beta),beta)[0]\n",
      "\n",
      "#Probabilty of sell order at t=1\n",
      "pMS[1] = pr(x1s)/2\n",
      "pLS[1] = (pr(x2s)-pr(x1s))/2\n",
      "\n",
      "#t=1 Buy Orders\n",
      "#Probability of filling a limit buy\n",
      "pLBFill=pMS[(2,1,2)]*pMS[3]\n",
      "\n",
      "#Benefit functions for sell orders\n",
      "benLB=lambda(x): (x*v-b)*pLBFill\n",
      "benMB=lambda(x): (x*v-a)\n",
      "\n",
      "#Solve for crossing points\n",
      "x1b=solve(benLB(beta),beta)[0]\n",
      "x2b=solve(benLB(beta)-benMB(beta),beta)[0]\n",
      "\n",
      "#Probabilty of buy order at t=1\n",
      "pMB[1] = (1-pr(x2b))/2\n",
      "pLB[1] = (pr(x2b)-pr(x1b))/2\n",
      "\n",
      "print 'Probability of limit sell at t=1: {0}'.format(pLS[1])\n",
      "print 'Probability of market sell at t=1: {0}'.format(pMS[1])\n",
      "print 'Probability of limit buy at t=1: {0}'.format(pLB[1])\n",
      "print 'Probability of market buy at t=1: {0}'.format(pMB[1])"
     ],
     "language": "python",
     "metadata": {},
     "outputs": [
      {
       "output_type": "stream",
       "stream": "stdout",
       "text": [
        "Probability of limit sell at t=1: 22/459\n",
        "Probability of market sell at t=1: 1135/5049\n",
        "Probability of limit buy at t=1: 22/459\n",
        "Probability of market buy at t=1: 1135/5049\n"
       ]
      }
     ],
     "prompt_number": 1
    },
    {
     "cell_type": "markdown",
     "metadata": {},
     "source": [
      "### 2. (4 points) \n",
      "Explain why the optimal market/limit order decision depends in general on quantity available on both sides of the order book in the Parlour model."
     ]
    },
    {
     "cell_type": "markdown",
     "metadata": {},
     "source": [
      "####<font color = \"green\">Solution<font color = \"black\">\n",
      "In the Parlour model, any existing quantity at either side of the book acts as a queue.  Since the model only allows at most one limit order to be filled each time step, it is clear that the larger the queue, the less likely that a limit order will be filled.  Furthermore, a reduction in the probabilility of a limit order increases the probability of a market order, which will impact the queue on the other side of the book, which means both sides of the book must be accounted for in any optimal decision.  For example, a market sell will decrease the bid side, which increases the probability of a limit buy.  This in turns reduces the probability of a market buy, which leads to a larger queue on the offer side.  This circles back and leads to an increase in  the probability of a market sell.  We can see that this will typically leads to a directional herding effect for market orders."
     ]
    },
    {
     "cell_type": "markdown",
     "metadata": {},
     "source": [
      "### Set up R-environment"
     ]
    },
    {
     "cell_type": "code",
     "collapsed": false,
     "input": [
      "%load_ext rpy2.ipython"
     ],
     "language": "python",
     "metadata": {},
     "outputs": [],
     "prompt_number": 2
    },
    {
     "cell_type": "code",
     "collapsed": false,
     "input": [
      "%%R\n",
      "download.file(url=\"http://mfe.baruch.cuny.edu/wp-content/uploads/2015/01/ziSetup.zip\", destfile=\"ziSetup.zip\")\n",
      "unzip(zipfile=\"ziSetup.zip\")\n",
      "source(\"ziSetup.R\")\n",
      "setwd('E:/Documents/Baruch MFE/MA9879')"
     ],
     "language": "python",
     "metadata": {},
     "outputs": [],
     "prompt_number": 3
    },
    {
     "cell_type": "markdown",
     "metadata": {},
     "source": [
      "## Cont-Kukanov optimal order placement"
     ]
    },
    {
     "cell_type": "markdown",
     "metadata": {},
     "source": [
      "### 3. (16 points)\n",
      "\n",
      "Consider the two BATS exchanges BZX and BYX.  Suppose you are trying to buy shares of MSFT in 3.9 minutes ($1\\%$ of the trading day).  Suppose further that the two exchanges have the following characteristics:\n",
      "\n",
      "**Exchange** | **Make fee** | **Take fee** | **Daily volume** \n",
      "-----|-----:|-------:| ---- |\n",
      "| **(per share)** | **(per share)** | **(shares)** \n",
      "BZX | -0.32\u00a2 | +0.30\u00a2 | 10,500,000\n",
      "BYX | +0.03\u00a2 | -0.03\u00a2 | 1,300,000\n",
      "\n",
      "Assume the daily volatility of MSFT is $1\\%$ and that MSFT is trading at $\\$37.50$.\n",
      "\n",
      "(a) We may suppose that if your order is only partially filled, that's because the price moved away (*adverse selection*).  This suggests that we penalize any under fill of limit orders by $\\sigma\\,\\sqrt{T}$ where $T$ is the order duration.  Compute the corresponding value of $\\lambda_u$ in cents per share."
     ]
    },
    {
     "cell_type": "markdown",
     "metadata": {},
     "source": [
      "####<font color = \"green\">Solution<font color = \"black\">"
     ]
    },
    {
     "cell_type": "code",
     "collapsed": false,
     "input": [
      "%%R\n",
      "P <- 37.50\n",
      "sigma <- 0.01\n",
      "t <- .01\n",
      "lambdaU <- sigma * sqrt(t) * P"
     ],
     "language": "python",
     "metadata": {},
     "outputs": [],
     "prompt_number": 4
    },
    {
     "cell_type": "code",
     "collapsed": false,
     "input": [
      "%Rpull lambdaU\n",
      "print 'Lambda_u: {0}'.format(lambdaU[0])"
     ],
     "language": "python",
     "metadata": {},
     "outputs": [
      {
       "output_type": "stream",
       "stream": "stdout",
       "text": [
        "Lambda_u: 0.0375\n"
       ]
      }
     ],
     "prompt_number": 5
    },
    {
     "cell_type": "markdown",
     "metadata": {},
     "source": [
      "(b) Assuming a spread of $1$ cent, what are $h$, $f$, and $r$ for BZX and BYX respectively (in cents per share)?"
     ]
    },
    {
     "cell_type": "markdown",
     "metadata": {},
     "source": [
      "####<font color = \"green\">Solution<font color = \"black\">"
     ]
    },
    {
     "cell_type": "code",
     "collapsed": false,
     "input": [
      "%%R\n",
      "s <- 0.01\n",
      "h <- s/2\n",
      "bzx <- list(r=0.0032,f=0.003,volume=10500000)\n",
      "byx <- list(r=-0.0003,f=-0.0003,volume=1300000)"
     ],
     "language": "python",
     "metadata": {},
     "outputs": [],
     "prompt_number": 6
    },
    {
     "cell_type": "code",
     "collapsed": false,
     "input": [
      "%Rpull h bzx byx\n",
      "bzx=dict(zip(bzx.names, list(bzx)))\n",
      "byx=dict(zip(byx.names, list(byx)))\n",
      "print 'h: {0}'.format(h[0])\n",
      "print 'BZX f: {0}'.format(bzx['f'][0])\n",
      "print 'BZX r: {0}'.format(bzx['r'][0])\n",
      "print 'BYX f: {0}'.format(byx['f'][0])\n",
      "print 'BYX r: {0}'.format(byx['r'][0])"
     ],
     "language": "python",
     "metadata": {},
     "outputs": [
      {
       "output_type": "stream",
       "stream": "stdout",
       "text": [
        "h: 0.005\n",
        "BZX f: 0.003\n",
        "BZX r: 0.0032\n",
        "BYX f: -0.0003\n",
        "BYX r: -0.0003\n"
       ]
      }
     ],
     "prompt_number": 7
    },
    {
     "cell_type": "markdown",
     "metadata": {},
     "source": [
      "(c) Assuming no seasonality, what is the mean value $\\bar \\xi$ of $\\xi$ (over 3.9 minutes) for BZX and BYX respectively (in shares)?"
     ]
    },
    {
     "cell_type": "markdown",
     "metadata": {},
     "source": [
      "####<font color = \"green\">Solution<font color = \"black\">"
     ]
    },
    {
     "cell_type": "code",
     "collapsed": false,
     "input": [
      "%%R\n",
      "#We assume few or no cancellations (since we have no information regarding them)\n",
      "bzx$xi <- bzx$volume * t\n",
      "byx$xi <- byx$volume * t"
     ],
     "language": "python",
     "metadata": {},
     "outputs": [],
     "prompt_number": 8
    },
    {
     "cell_type": "code",
     "collapsed": false,
     "input": [
      "%Rpull bzx byx\n",
      "bzx=dict(zip(bzx.names, list(bzx)))\n",
      "byx=dict(zip(byx.names, list(byx)))\n",
      "print 'BZX xi mean: {0}'.format(bzx['xi'][0])\n",
      "print 'BYX xi mean: {0}'.format(byx['xi'][0])"
     ],
     "language": "python",
     "metadata": {},
     "outputs": [
      {
       "output_type": "stream",
       "stream": "stdout",
       "text": [
        "BZX xi mean: 105000.0\n",
        "BYX xi mean: 13000.0\n"
       ]
      }
     ],
     "prompt_number": 9
    },
    {
     "cell_type": "markdown",
     "metadata": {},
     "source": [
      "(d)  Assume that $\\xi$ is log normally distributed with\n",
      "\n",
      "$$\n",
      "\\xi = \\bar \\xi \\,\\exp\\left\\{\\sigma\\,Z-\\frac 12\\,\\sigma^2\\right\\}.\n",
      "$$\n",
      "\n",
      "where $Z \\sim N(0,1)$ and $\\sigma = 1/2$.  What is the standard deviation of $\\xi$ (in terms of $\\bar \\xi$)?"
     ]
    },
    {
     "cell_type": "markdown",
     "metadata": {},
     "source": [
      "####<font color = \"green\">Solution<font color = \"black\">\n",
      "$$\n",
      "\\begin{align*}\n",
      "var(\\xi) &= \\bar{\\xi}^2\\left(e^{\\sigma^2}-1\\right)e^{-\\frac{1}{2}2\\sigma^2+\\sigma^2} \\\\\n",
      "&= \\bar{\\xi}^2\\left(e^{\\sigma^2}-1\\right) \\\\\n",
      "&= \\bar{\\xi}^2\\left(e^{\\frac{1}{4}}-1\\right) \\\\\n",
      "\\sigma_{\\xi}&=\\bar{\\xi}\\sqrt{e^{1/4}-1} \\\\\n",
      "\\end{align*}\n",
      "$$"
     ]
    },
    {
     "cell_type": "markdown",
     "metadata": {},
     "source": [
      "(e) Write R-code to determine the optimal order size $L^\\star+Q$ on BZX and BYX respectively. Assume here that you will either trade on BZX or BYX; there is no splitting of the order between the two exchanges. <br>\n",
      "(Hint: You may find the R function *qnorm(. )* useful)."
     ]
    },
    {
     "cell_type": "markdown",
     "metadata": {},
     "source": [
      "####<font color = \"green\">Solution<font color = \"black\">"
     ]
    },
    {
     "cell_type": "code",
     "collapsed": false,
     "input": [
      "%%R\n",
      "ckOptimal <- function(h,r,f,xi,sigma,lambdaU) {\n",
      "  fql <- (2*h+f+r)/(lambdaU+h+r)\n",
      "  return(qlnorm(fql,meanlog=-1/2*sigma*sigma+log(xi),sdlog=sigma))\n",
      "}\n",
      "\n",
      "bzx$L <- ckOptimal(h,bzx$r,bzx$f,bzx$xi,1/2,lambdaU)\n",
      "byx$L <- ckOptimal(h,byx$r,byx$f,byx$xi,1/2,lambdaU)"
     ],
     "language": "python",
     "metadata": {},
     "outputs": [],
     "prompt_number": 10
    },
    {
     "cell_type": "code",
     "collapsed": false,
     "input": [
      "%Rpull bzx byx\n",
      "bzx=dict(zip(bzx.names, list(bzx)))\n",
      "byx=dict(zip(byx.names, list(byx)))\n",
      "print 'BZX L+Q: {0}'.format(bzx['L'][0])\n",
      "print 'BYX L+Q: {0}'.format(byx['L'][0])"
     ],
     "language": "python",
     "metadata": {},
     "outputs": [
      {
       "output_type": "stream",
       "stream": "stdout",
       "text": [
        "BZX L+Q: 76887.3612204\n",
        "BYX L+Q: 7834.03778695\n"
       ]
      }
     ],
     "prompt_number": 11
    },
    {
     "cell_type": "markdown",
     "metadata": {},
     "source": [
      "(f) Compare the optimal limit order sizes from part (e) with the ratios of quote sizes and volumes on BZX and BYX.  Are your results from part (e) roughly consistent with observation.  You may assume that the quote sizes shown on the MSFT BATS slides from Lecture 1 are typical."
     ]
    },
    {
     "cell_type": "markdown",
     "metadata": {},
     "source": [
      "####<font color = \"green\">Solution<font color = \"black\">"
     ]
    },
    {
     "cell_type": "code",
     "collapsed": false,
     "input": [
      "%%R\n",
      "ckRatioBzx <- bzx$L / bzx$volume\n",
      "avgBzxQuoteSize <- mean(c(7300,8300,6200,4167,2301,9200,4700,4100,4000,4600))\n",
      "bzxVolume <- 2175982\n",
      "ratioBzx <- avgBzxQuoteSize/bzxVolume\n",
      "\n",
      "ckRatioByx <- byx$L / byx$volume\n",
      "avgByxQuoteSize <- mean(c(1300,1100,1400,1100,547,700,1300,1300,1100,1200))\n",
      "byxVolume <- 303791\n",
      "ratioByx <- avgByxQuoteSize/byxVolume"
     ],
     "language": "python",
     "metadata": {},
     "outputs": [],
     "prompt_number": 12
    },
    {
     "cell_type": "code",
     "collapsed": false,
     "input": [
      "%Rpull ckRatioBzx ckRatioByx ratioBzx ratioByx\n",
      "print 'BZX CK L+Q to Volume ratio: {0}'.format(ckRatioBzx[0])\n",
      "print 'BZX Avg Quote size to Volume ratio: {0}'.format(ratioBzx[0])\n",
      "print 'BYX CK L+Q to Volume ratio: {0}'.format(ckRatioByx[0])\n",
      "print 'BYX Avg Quote size to Volume ratio: {0}'.format(ratioByx[0])"
     ],
     "language": "python",
     "metadata": {},
     "outputs": [
      {
       "output_type": "stream",
       "stream": "stdout",
       "text": [
        "BZX CK L+Q to Volume ratio: 0.00732260583051\n",
        "BZX Avg Quote size to Volume ratio: 0.00252152821117\n",
        "BYX CK L+Q to Volume ratio: 0.00602618291304\n",
        "BYX Avg Quote size to Volume ratio: 0.00363638159129\n"
       ]
      }
     ],
     "prompt_number": 13
    },
    {
     "cell_type": "markdown",
     "metadata": {},
     "source": [
      "We can see that they are roughly similar and on the same order of magnitude."
     ]
    },
    {
     "cell_type": "markdown",
     "metadata": {},
     "source": [
      "## The Bouchaud-M&eacute;zard-Potters order book approximation"
     ]
    },
    {
     "cell_type": "markdown",
     "metadata": {},
     "source": [
      "### 4. (16 points)\n",
      "\n",
      "When $\\lambda(u)=\\alpha$,  a constant, the BMP order density becomes\n",
      "\n",
      "\\begin{eqnarray*}\n",
      "\\rho_{BMP}(\\Delta) &=& \\frac{\\alpha}{\\delta}\\,\\left\\{e^{-\\Delta/{\\tilde \\Delta}}\\,\\int_0^{\\Delta/{\\tilde\\Delta}}\\,\\sinh(u)\\,du + \\sinh(\\Delta/{\\tilde \\Delta})\\,\\int_{\\Delta/{\\tilde\\Delta}}^\\infty\\,e^{-u}\\,du\\right\\} \\\\\n",
      "&=&\\frac{\\alpha}{\\delta}\\,\\left\\{1 - e^{-\\Delta/{\\tilde \\Delta}}  \\right\\}\n",
      "\\end{eqnarray*}\n",
      "\n",
      "where the characteristic distance\n",
      "\n",
      "$$\n",
      "\\tilde \\Delta=\\sqrt{\\frac{\\sigma^2}{2\\,\\delta}}.\n",
      "$$\n",
      "\n",
      "(a) Amend the SFGK zero intelligence code from Problem 3 of HW1 to count the number of limit orders generated in addition to computing the average book shape."
     ]
    },
    {
     "cell_type": "markdown",
     "metadata": {},
     "source": [
      "####<font color = \"green\">Solution<font color = \"black\">"
     ]
    },
    {
     "cell_type": "code",
     "collapsed": false,
     "input": [
      "%%R\n",
      "numLimBuy <<- 0\n",
      "numLimSell <<- 0\n",
      "\n",
      "#Modified buy limit order\n",
      "limitBuyOrder <- function(price=NA){\n",
      "  if (is.na(price))\n",
      "  {prx <<- (bestOffer()-pick(L))}\n",
      "  else prx <<-price  \n",
      "  if(logging==T){eventLog[count,]<<- c(\"LB\",prx)} \n",
      "  numLimBuy <<- numLimBuy+1\n",
      "  book$buySize[book$Price==prx]<<-book$buySize[book$Price==prx]+1} \n",
      "\n",
      "#Modified sell limit order\n",
      "limitSellOrder <- function(price=NA){\n",
      "  if (is.na(price))\n",
      "  {prx <<- (bestBid()+pick(L))}\n",
      "  else prx <<-price  \n",
      "  if(logging==T){eventLog[count,] <<- c(\"LS\",prx)}\n",
      "  numLimSell <<- numLimSell+1\n",
      "  book$sellSize[book$Price==prx]<<-book$sellSize[book$Price==prx]+1} \n",
      "    \n",
      "resetLimitOrderCount <- function() {\n",
      "  numLimBuy <<- 0\n",
      "  numLimSell <<- 0\n",
      "}"
     ],
     "language": "python",
     "metadata": {},
     "outputs": [],
     "prompt_number": 14
    },
    {
     "cell_type": "markdown",
     "metadata": {},
     "source": [
      "(b) With $\\alpha = 1$, $\\mu = 10$ and $\\delta = \\frac15$, simulate 100,000 events and plot the resulting average book shape in red (in a band $\\pm 20$ around the mid price)."
     ]
    },
    {
     "cell_type": "markdown",
     "metadata": {},
     "source": [
      "####<font color = \"green\">Solution<font color = \"black\">"
     ]
    },
    {
     "cell_type": "code",
     "collapsed": false,
     "input": [
      "%%R\n",
      "logging <- F\n",
      "\n",
      "#Parameters\n",
      "alpha <- 1\n",
      "mu <- 10\n",
      "delta <- 1/5 \n",
      "initializeBook5()\n",
      "\n",
      "# Burn in for 1000 events\n",
      "for(count in 1:100){\n",
      "  generateEvent()\n",
      "}\n",
      "\n",
      "resetLimitOrderCount()\n",
      "\n",
      "numEvents <- 100000 # Average over 100,000 events\n",
      "avgBookShape <- bookShape(20)/numEvents\n",
      "for(count in 2:numEvents){\n",
      "  generateEvent()\n",
      "  avgBookShape <- avgBookShape+bookShape(20)/numEvents\n",
      "}\n",
      "\n",
      "plot(-20:20,avgBookShape,main='Average Book Shape',xlab=\"Relative price\",ylab=\"# Shares\", col=\"red\", type=\"b\")"
     ],
     "language": "python",
     "metadata": {},
     "outputs": [
      {
       "metadata": {},
       "output_type": "display_data",
       "png": "[encoded data removed]"
      }
     ],
     "prompt_number": 15
    },
    {
     "cell_type": "markdown",
     "metadata": {},
     "source": [
      "(c) From your simulation, what is the probability $P_L$ of a limit order at a given level conditional on an event? (Recall that there are 60 limit order levels in the simulation)."
     ]
    },
    {
     "cell_type": "markdown",
     "metadata": {},
     "source": [
      "####<font color = \"green\">Solution<font color = \"black\">"
     ]
    },
    {
     "cell_type": "code",
     "collapsed": false,
     "input": [
      "%%R\n",
      "numLimOrders <- numLimBuy + numLimSell\n",
      "PL <- numLimOrders / numEvents / (L * 2)"
     ],
     "language": "python",
     "metadata": {},
     "outputs": [],
     "prompt_number": 16
    },
    {
     "cell_type": "code",
     "collapsed": false,
     "input": [
      "%Rpull PL\n",
      "print 'PL: {0}'.format(PL[0])"
     ],
     "language": "python",
     "metadata": {},
     "outputs": [
      {
       "output_type": "stream",
       "stream": "stdout",
       "text": [
        "PL: 0.008331\n"
       ]
      }
     ],
     "prompt_number": 17
    },
    {
     "cell_type": "markdown",
     "metadata": {},
     "source": [
      "(d) In [Gatheral and Oomen]<sup id=\"cite_ref-GO\" class=\"reference\"><a href=\"#cite_note-GO\"><span>[</span>1<span>]</span></a></sup>, with these SFGK parameters, realized variance per event was estimated as\n",
      "\n",
      "$$\n",
      "\\sigma^2_{GO} = 0.083.\n",
      "$$\n",
      "\n",
      "Using your estimate $P_L$ of limit orders per level per event, convert this estimate to variance per limit order (recall that $\\alpha=1$).  Denote your result by $\\sigma^2_{GO}$.  Compute the characteristic distance $\\tilde \\Delta_{GO}$ with this estimate $\\sigma^2_{GO}$."
     ]
    },
    {
     "cell_type": "markdown",
     "metadata": {},
     "source": [
      "####<font color = \"green\">Solution<font color = \"black\">"
     ]
    },
    {
     "cell_type": "code",
     "collapsed": false,
     "input": [
      "%%R\n",
      "varGO <- 0.083\n",
      "#Probability that a limit orders arrives at best bid/ask\n",
      "bPL <- PL * 2 \n",
      "#We assume that only limit orders at the best bid or ask have an impact on the price variance so we scale by those events\n",
      "varGO <- varGO/(bPL)\n",
      "cDistGO <- sqrt(varGO/(2*delta))"
     ],
     "language": "python",
     "metadata": {},
     "outputs": [],
     "prompt_number": 18
    },
    {
     "cell_type": "code",
     "collapsed": false,
     "input": [
      "%Rpull varGO cDistGO\n",
      "print 'sigma^2 GO: {0}'.format(varGO[0])\n",
      "print 'Delta_GO: {0}'.format(cDistGO[0])"
     ],
     "language": "python",
     "metadata": {},
     "outputs": [
      {
       "output_type": "stream",
       "stream": "stdout",
       "text": [
        "sigma^2 GO: 4.98139479054\n",
        "Delta_GO: 3.52894984044\n"
       ]
      }
     ],
     "prompt_number": 19
    },
    {
     "cell_type": "markdown",
     "metadata": {},
     "source": [
      "(e) In Lecture 1, using dimensional analysis, we estimated that variance $\\sigma^2_{DA}$ per unit time should be of the order of\n",
      "\n",
      "$$\n",
      "\\sigma^2_{DA} = \\frac{\\mu\\,\\delta}{\\alpha^2}.\n",
      "$$\n",
      "\n",
      "Compute the characteristic distance $\\tilde \\Delta_{DA}$ with this estimate $\\sigma^2_{DA}$."
     ]
    },
    {
     "cell_type": "markdown",
     "metadata": {},
     "source": [
      "####<font color = \"green\">Solution<font color = \"black\">"
     ]
    },
    {
     "cell_type": "code",
     "collapsed": false,
     "input": [
      "%%R\n",
      "varDA <- (mu*delta) / (alpha*alpha)\n",
      "cDistDA <- sqrt(varDA/(2*delta))"
     ],
     "language": "python",
     "metadata": {},
     "outputs": [],
     "prompt_number": 20
    },
    {
     "cell_type": "code",
     "collapsed": false,
     "input": [
      "%Rpull varDA cDistDA\n",
      "print 'sigma^2 DA: {0}'.format(varDA[0])\n",
      "print 'Delta_DA: {0}'.format(cDistDA[0])"
     ],
     "language": "python",
     "metadata": {},
     "outputs": [
      {
       "output_type": "stream",
       "stream": "stdout",
       "text": [
        "sigma^2 DA: 2.0\n",
        "Delta_DA: 2.2360679775\n"
       ]
      }
     ],
     "prompt_number": 21
    },
    {
     "cell_type": "markdown",
     "metadata": {},
     "source": [
      "(f)  Using your two estimates of $\\tilde \\Delta$ from parts (d) and (e),  write functions to compute the corresponding order book densities $\\rho_{GO}(\\Delta)$ and $\\rho_{DA}(\\Delta)$."
     ]
    },
    {
     "cell_type": "markdown",
     "metadata": {},
     "source": [
      "####<font color = \"green\">Solution<font color = \"black\">"
     ]
    },
    {
     "cell_type": "code",
     "collapsed": false,
     "input": [
      "%%R\n",
      "rhoBMP <- function(d,cDist) { alpha/delta*(1-exp(-abs(d)/cDist)) }"
     ],
     "language": "python",
     "metadata": {},
     "outputs": [],
     "prompt_number": 22
    },
    {
     "cell_type": "markdown",
     "metadata": {},
     "source": [
      "(g)\n",
      "Superimpose plots of the asymptotic densities $\\rho_{DA}(\\Delta)$ (in blue) and $\\rho_{DA}(\\Delta)$ (in orange) on your plot of the average book shape."
     ]
    },
    {
     "cell_type": "markdown",
     "metadata": {},
     "source": [
      "####<font color = \"green\">Solution<font color = \"black\">"
     ]
    },
    {
     "cell_type": "code",
     "collapsed": false,
     "input": [
      "%%R\n",
      "plot(-20:20,avgBookShape,main='Average Book Shape vs BMP',xlab=\"Relative price\",ylab=\"# Shares\", col=\"red\", type=\"b\")\n",
      "curve(rhoBMP(x,cDistGO),from=-20,to=20,n=100,col=\"blue\",add=T)\n",
      "curve(rhoBMP(x,cDistDA),from=-20,to=20,n=100,col=\"orange\",add=T)\n",
      "legend('bottomright', inset=0.03, legend=c('ZI Simulation', 'BMP-GO','BMP-DA'), lty=c(1, 1,1), col=c('red', 'blue','orange'), cex=0.7)"
     ],
     "language": "python",
     "metadata": {},
     "outputs": [
      {
       "metadata": {},
       "output_type": "display_data",
       "png": "[encoded data removed]"
      }
     ],
     "prompt_number": 23
    },
    {
     "cell_type": "markdown",
     "metadata": {},
     "source": [
      "### 5. (6 points)\n",
      "\n",
      "Another of Mike and Farmer's observations is that the distribution of marketable as well as unmarketable limit orders as a function of distance $\\Delta$ to the same-side best quote is well-described by a Student-$t$ distribution.  Assume $\\mu=1/2$ as above.\n",
      "\n",
      "(a) Derive an expression in terms of the Student-$t$ cumulative density function for the ratio of arrival rates of limit to market orders as a function of the spread $s$.  How does this ratio vary with $s$?"
     ]
    },
    {
     "cell_type": "markdown",
     "metadata": {},
     "source": [
      "####<font color = \"green\">Solution<font color = \"black\">\n",
      "Let $F(\\Delta)$ be the CDF of a Student-$t$ distribution with $1/2$ degrees of freedom.  Wlog, we consider buy orders only. Conditional on an order being placed, the probability of the order being inside the book or inside the spread is $F(s)$.  The probabilty of the order being marketable is $1-F(s)=F(-s)$.  Thus the ratio of limit orders to market orders $R_{L/M}$ is\n",
      "$$\n",
      "R_{L/M}=\\frac{F(s)}{F(-s)}\n",
      "$$\n",
      "This is clearly increasing with $s$, suggesting that as the spread widens, a greater proportion of orders will be limit orders as opposed to market orders."
     ]
    },
    {
     "cell_type": "markdown",
     "metadata": {},
     "source": [
      "(b) Relative to the zero-intelligence model, does this empirically observed strategic behavior make the spread revert faster or more slowly?"
     ]
    },
    {
     "cell_type": "markdown",
     "metadata": {},
     "source": [
      "####<font color = \"green\">Solution<font color = \"black\">\n",
      "Based on the above, we can see that the proportion of market orders varies inversely with respect to the spread.  When spreads tighten, we expect an increased rate of market order arrivals, which will serve to widen spreads.  When spreads widen, we expect and increased rate of limt orders, which will likely tighten spreads.  Thus we have an active spread reversion dynamic.  We expect this to cause faster spread reversion than in the ZI model whose rates of market and limit orders are driven by independent processes with constant dynamics."
     ]
    },
    {
     "cell_type": "markdown",
     "metadata": {},
     "source": [
      "### References\n",
      "\n",
      "<div class=\"reflist\" style=\"list-style-type: decimal;\">\n",
      "\n",
      "<ol>\n",
      "\n",
      "  <li id=\"cite_note-GO\"><span class=\"mw-cite-backlink\"><b><a href=\"#cite_ref-GO\">^</a></b></span> Jim Gatheral and Roel C. A Oomen, Zero-intelligence realized variance estimation, <span>*Finance and Stochastics*,</span> <span>**14**</span>(2) 249\u2013283, 2010.</li>\n",
      "\n",
      "</ol>"
     ]
    }
   ],
   "metadata": {}
  }
 ]
}