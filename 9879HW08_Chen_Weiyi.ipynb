{
 "cells": [
  {
   "cell_type": "markdown",
   "metadata": {},
   "source": [
    "#### Student: Chen Weiyi, weiyi.alan.chen@gmail.com"
   ]
  },
  {
   "cell_type": "markdown",
   "metadata": {},
   "source": [
    "# MTH9879 Homework 8\n",
    "\n",
    "Assigned: April 14, 2015.\n",
    "Due: April 28, 2015 by 6pm. \n",
    "\n",
    "Late homework **will not be accepted**.\n",
    "\n",
    "$$\n",
    "\\newcommand{\\supp}{\\mathrm{supp}}\n",
    "\\newcommand{\\E}{\\mathbb{E}}\n",
    "\\newcommand{\\Eof}[1]{\\mathbb{E}\\left[ #1 \\right]}\n",
    "\\def\\Cov{{ \\mbox{Cov} }}\n",
    "\\def\\Var{{ \\mbox{Var} }}\n",
    "\\newcommand{\\1}{\\mathbf{1} }\n",
    "\\newcommand{\\PP}{\\mathbb{P} }\n",
    "%\\newcommand{\\Pr}{\\mathrm{Pr} }\n",
    "\\newcommand{\\QQ}{\\mathbb{Q} }\n",
    "\\newcommand{\\RR}{\\mathbb{R} }\n",
    "\\newcommand{\\DD}{\\mathbb{D} }\n",
    "\\newcommand{\\HH}{\\mathbb{H} }\n",
    "\\newcommand{\\spn}{\\mathrm{span} }\n",
    "\\newcommand{\\cov}{\\mathrm{cov} }\n",
    "\\newcommand{\\sgn}{\\mathrm{sgn} }\n",
    "\\newcommand{\\HS}{\\mathcal{L}_{\\mathrm{HS}} }\n",
    "%\\newcommand{\\HS}{\\mathrm{HS} }\n",
    "\\newcommand{\\trace}{\\mathrm{trace} }\n",
    "\\newcommand{\\LL}{\\mathcal{L} }\n",
    "%\\newcommand{\\LL}{\\mathrm{L} }\n",
    "\\newcommand{\\s}{\\mathcal{S} }\n",
    "\\newcommand{\\ee}{\\mathcal{E} }\n",
    "\\newcommand{\\ff}{\\mathcal{F} }\n",
    "\\newcommand{\\hh}{\\mathcal{H} }\n",
    "\\newcommand{\\bb}{\\mathcal{B} }\n",
    "\\newcommand{\\dd}{\\mathcal{D} }\n",
    "\\newcommand{\\g}{\\mathcal{G} }\n",
    "\\newcommand{\\p}{\\partial}\n",
    "\\newcommand{\\half}{\\frac{1}{2} }\n",
    "\\newcommand{\\T}{\\mathcal{T} }\n",
    "\\newcommand{\\bi}{\\begin{itemize}}\n",
    "\\newcommand{\\ei}{\\end{itemize}}\n",
    "\\newcommand{\\beq}{\\begin{equation}}\n",
    "\\newcommand{\\eeq}{\\end{equation}}\n",
    "\\newcommand{\\beas}{\\begin{eqnarray*}}\n",
    "\\newcommand{\\eeas}{\\end{eqnarray*}}\n",
    "\\newcommand{\\cO}{\\mathcal{O}}\n",
    "\\newcommand{\\cF}{\\mathcal{F}}\n",
    "\\newcommand{\\cL}{\\mathcal{L}}\n",
    "\\newcommand{\\BS}{\\text{BS}}\n",
    "$$"
   ]
  },
  {
   "cell_type": "markdown",
   "metadata": {},
   "source": [
    "<font color = \"red\">Homework is to be done by each student individually.  To receive full credit, you must email a completed copy of this iPython notebook to Yu Gan (yugan323@gmail.com), Fubo Shi (fubo.shi.baruch@gmail.com), and Tai-Ho Wang (tai-ho.wang@baruch.cuny.edu) by the due date and time.  All R-code must run correctly and solutions must be written up neatly in Markdown/LaTeX format.\n",
    "\n",
    "<font color=\"blue\">If you encounter problems with Markdown/LaTeX or iPython notebook, please contact your TAs Yu Gan and/or Fubo Shi.\n"
   ]
  },
  {
   "cell_type": "markdown",
   "metadata": {},
   "source": [
    "### 0. (0 points) \n",
    "Read Section 6.7 of Bouchaud, Farmer and Lillo."
   ]
  },
  {
   "cell_type": "markdown",
   "metadata": {},
   "source": [
    "## Predictability of order flow"
   ]
  },
  {
   "cell_type": "markdown",
   "metadata": {},
   "source": [
    "### 1. (6 points)\n",
    "\n",
    "Suppose that the distribution of meta order sizes $Q$ is exponential so that\n",
    "\n",
    "$$\n",
    "\\Pr(Q>V)= \\frac{1}{\\lambda}\\,e^{-\\lambda\\,V}\n",
    "$$\n",
    "\n",
    "Assuming slices of  constant size $\\bar v$, compute the conditional probability that a hidden order has more slices given that $n$ slices have already been observed.  Compare your result with the case where distribution of metaorder size is power-law."
   ]
  },
  {
   "cell_type": "markdown",
   "metadata": {},
   "source": [
    "<font color=\"darkblue\">\n",
    "\n",
    "### Solution\n",
    "\n",
    "The conditional probability that a hidden order has more slices given that n slices have already been observed, \n",
    "\n",
    "\\begin{equation}\n",
    "    q_t = \\left.\\Pr(T \\geq t+1 \\right|T \\ge t) = \\frac{\\Pr(T \\ge t+1)}{\\Pr(T \\ge t)} = e^{-\\lambda}\n",
    "\\end{equation}\n",
    "\n",
    "If distribution of metaorder size is power-law, then similary (from lecture note)\n",
    "\n",
    "\\begin{equation}\n",
    "    q_t = \\left.\\Pr(T \\geq t+1 \\right|T \\ge t) = \\frac{\\Pr(T \\ge t+1)}{\\Pr(T \\ge t)} \\sim \\left(\\frac{t}{t+1}\\right)^\\lambda\n",
    "\\end{equation}\n",
    "    "
   ]
  },
  {
   "cell_type": "markdown",
   "metadata": {},
   "source": [
    "## Price manipulation"
   ]
  },
  {
   "cell_type": "markdown",
   "metadata": {},
   "source": [
    "### 2. (10 points)\n",
    "\n",
    "Consider the price process\n",
    "\n",
    "$$\n",
    "S_t=S_0+\\int_0^t\\,f(\\dot{x}_s)\\,G(t-s)\\,ds+\\int_0^t\\,\\sigma\\,dZ_s\n",
    "$$\n",
    "\n",
    "where ${\\dot x}_s$ is the rate of trading in dollars at time $s < t$, $f(\\dot{x}_s)$ represents the impact of trading at time $s$ and $G(t-s)$ is a decay factor.\n",
    "\n",
    "(a) With the choices\n",
    "\n",
    "$$\n",
    "f(v)=\\sqrt{v},\\quad G(\\tau)=\\frac{1}{1+\\tau},\n",
    "$$\n",
    "    \n",
    "repeat the computations in Lecture 8  to derive an expression for the expected cost of accumulating shares at the rate $v_1$ and liquidating them at the rate $v_2$."
   ]
  },
  {
   "cell_type": "markdown",
   "metadata": {},
   "source": [
    "<font color=\"darkblue\">\n",
    "\n",
    "### Solution\n",
    "\n",
    "From lecture note equation (7), and given the conditions \n",
    "\n",
    "$$\n",
    "f(v)=\\sqrt{v},\\quad G(\\tau)=\\frac{1}{1+\\tau},\n",
    "$$\n",
    "\n",
    "we have\n",
    "\n",
    "\\begin{eqnarray*}\n",
    "C_{11}&=&v_1\\,f\\left(v_1\\right)\\,\\int_0^{\\theta\\,T}\\,dt\\,\\int_0^t\\,G(t-s)\\,ds  =v_1^{3/2}\\int_0^{\\theta\\,T}\\,dt\\,\\int_0^t\\,\\frac{1}{1+t-s}\\,ds &=& v_1^{3/2}(1+\\theta\\,T)\\ln(1+\\theta\\,T) - v_1^{3/2}\\theta\\,T \n",
    "\\end{eqnarray*}\n",
    "\n",
    "Similarly,\n",
    "\n",
    "\\begin{eqnarray*}\n",
    "C_{22} &=& v_2^{3/2}(1+T-\\theta\\,T)\\ln(1+T-\\theta\\,T) + v_2^{3/2}(\\theta\\,T-T)\\nonumber\\\\\n",
    "C_{12} &=& v_2\\,\\sqrt v_1\\, \\left[(1+T)\\ln(1+T) - (1+\\theta\\,T) \\ln(1+\\theta\\,T) - (1+T-\\theta\\,T)\\ln(1+T-\\theta\\,T)\\right]\n",
    "\\end{eqnarray*}"
   ]
  },
  {
   "cell_type": "markdown",
   "metadata": {},
   "source": [
    "(b) Verify that with $T=1$, $v_1=1/4$, $v_2=1$, the expected cost of this round-trip strategy is negative, thus demonstrating that price manipulation is possible. (Recall from the lecture slides that price manipulation is always possible if $f(\\cdot)$ is nonlinear and the decay kernel $G(\\cdot)$  is finite at the origin.)\n",
    "\n",
    "Hint: You might consider using Mathematica or Wolfram Alpha to do the integrations.\n",
    "\n",
    "<font color=\"darkblue\">\n",
    "\n",
    "### Solution"
   ]
  },
  {
   "cell_type": "code",
   "execution_count": 1,
   "metadata": {
    "collapsed": false
   },
   "outputs": [
    {
     "name": "stdout",
     "output_type": "stream",
     "text": [
      "C_11:\t0.032251999603\n",
      "C_22:\t0.0187858681527\n",
      "C_12:\t0.0547462480717\n",
      "C:\t-0.00370838031594\n",
      "C pos?: False\n"
     ]
    }
   ],
   "source": [
    "import math\n",
    "\n",
    "v_1   = 1. / 4.\n",
    "v_2   = 1.\n",
    "T     = 1.\n",
    "theta = v_2 / (v_1 + v_2)\n",
    "\n",
    "C_11 = v_1**(1.5) * (1 + theta*T) * math.log(1+theta*T) - v_1**(1.5) * theta * T\n",
    "C_22 = v_2**(1.5) * (1 + T - theta*T) * math.log(1+T-theta*T) + v_2**(1.5) * (theta*T - T)\n",
    "C_12 = v_2 * v_1**0.5 * ((1+T)*math.log(1+T) - (1+theta*T)*math.log(1+theta*T) - (1+T-theta*T)*math.log(1+T-theta*T))\n",
    "C    = C_11 + C_22 - C_12 \n",
    "\n",
    "print 'C_11:\\t', C_11\n",
    "print 'C_22:\\t', C_22\n",
    "print 'C_12:\\t', C_12\n",
    "print 'C:\\t'   , C\n",
    "print 'C pos?:', (C > 0)"
   ]
  },
  {
   "cell_type": "markdown",
   "metadata": {},
   "source": [
    "### Set up R environment"
   ]
  },
  {
   "cell_type": "code",
   "execution_count": 2,
   "metadata": {
    "collapsed": false
   },
   "outputs": [],
   "source": [
    "%load_ext rpy2.ipython"
   ]
  },
  {
   "cell_type": "markdown",
   "metadata": {},
   "source": [
    "## The Obizhaeva-Wang model"
   ]
  },
  {
   "cell_type": "markdown",
   "metadata": {},
   "source": [
    "### 3. (8 points)\n",
    "\n",
    "In the Obizhaeva-Wang (OW) model, the price follows\n",
    "\n",
    "$$\n",
    "S_t=S_0+\\eta\\,\\int_0^t\\,{\\dot x}_s\\,e^{-\\rho\\,(t-s)}\\,ds+\\int_0^t\\,\\sigma\\,dZ_s\n",
    "$$\n",
    "\n",
    "(a) Derive an expression for the expected price path corresponding to a VWAP execution.\n"
   ]
  },
  {
   "cell_type": "markdown",
   "metadata": {},
   "source": [
    "<font color=\"darkblue\">\n",
    "\n",
    "### Solution\n",
    "\n",
    "For a VWAP exection, we have given condition \n",
    "\n",
    "$${\\dot x} = \\frac{x}{T}$$\n",
    "\n",
    "Then\n",
    "$$\n",
    "S_t=S_0+\\eta\\,\\int_0^t\\,{\\frac{x_s}{T_s}}\\,e^{-\\rho\\,(t-s)}\\,ds+\\int_0^t\\,\\sigma\\,dZ_s\n",
    "$$\n",
    "\n",
    "When $0 \\leq t \\leq T$,\n",
    "\n",
    "$$\n",
    "\\mathbb{E}[S_t] = S_0 + \\eta \\frac{x}{T} \\int_0^t e^{-\\rho(t-s)}ds = S_0 + \\frac{\\eta x}{\\rho T}(1-e^{-\\rho t})\n",
    "$$\n",
    "\n",
    "\n",
    "But if $t > T$, \n",
    "$$\n",
    "\\mathbb{E}[S_t] = \\mathbb{E}[S_T] = S_0 + \\frac{\\eta x}{\\rho T}(1 - e^{-\\rho T})\n",
    "$$\n",
    "\n",
    "\n"
   ]
  },
  {
   "cell_type": "markdown",
   "metadata": {},
   "source": [
    "(b) With the duration $T$ of the meta order set to 1, plot the expected price path from time $t=0$ to time $t=2$ for $\\rho=0.5,1,$ and $2$."
   ]
  },
  {
   "cell_type": "code",
   "execution_count": 3,
   "metadata": {
    "collapsed": false
   },
   "outputs": [
    {
     "data": {
      "image/png": "[encoded data removed]"
     },
     "metadata": {},
     "output_type": "display_data"
    }
   ],
   "source": [
    "%%R\n",
    "\n",
    "# Initialize Paramters\n",
    "ls_timeStamps = seq(0,2,0.01)\n",
    "f_rho1 = 0.5\n",
    "f_rho2 = 1\n",
    "f_rho3 = 2\n",
    "\n",
    "# function to generate expected price path\n",
    "expectedPrice = function(t,f_rho){\n",
    "    ls_price = (1-exp(-f_rho*t)) / f_rho;\n",
    "    if (t > 1){\n",
    "        ls_price = exp(f_rho*(1-t))/f_rho - exp(f_rho*(-t))/f_rho;\n",
    "    }\n",
    "    return (ls_price)\n",
    "}\n",
    "\n",
    "# apply defined function for different rho\n",
    "S_1 = sapply(ls_timeStamps, function(t)expectedPrice(t, f_rho1))\n",
    "S_2 = sapply(ls_timeStamps, function(t)expectedPrice(t, f_rho2))\n",
    "S_3 = sapply(ls_timeStamps, function(t)expectedPrice(t, f_rho3))\n",
    "\n",
    "# plot\n",
    "plot(ls_timeStamps, S_1, type='l', xlab='Time Stamps', ylab='Expected Price', col='red')\n",
    "points(ls_timeStamps, S_2, type='l', col='blue')\n",
    "points(ls_timeStamps, S_3, type='l', col='green')"
   ]
  },
  {
   "cell_type": "markdown",
   "metadata": {},
   "source": [
    "(c) What is the expected average cost per share $\\bar S_T$ of a VWAP order in the OW model?"
   ]
  },
  {
   "cell_type": "markdown",
   "metadata": {},
   "source": [
    "<font color=\"darkblue\">\n",
    "\n",
    "### Solution\n",
    "\n",
    "According to lecture note, the expected average cost is\n",
    "\n",
    "$$\\bar S_T= \\frac{C[\\Pi]}{x} = \\frac{1}{x} \\int_0^T\\,{\\dot x}_t\\,dt\\,\\int_0^t\\,\\dot x e^{-\\rho\\,(t-s)}ds$$\n",
    "\n",
    "If indicated in part (a) with $\\dot x = \\frac{x}{T}$, we have \n",
    "\n",
    "$$C[\\Pi] = \\frac{\\eta\\,x^2}{\\rho\\,T} + \\frac{\\eta\\,x^2}{\\rho^2\\,T^2}\\,(e^{-\\rho\\,T}-1)$$\n",
    "\n",
    "Therefore,\n",
    "\n",
    "$$\\bar S_T = \\frac{\\eta\\,x}{\\rho\\,T} + \\frac{\\eta\\,x}{\\rho^2\\,T^2}\\,(e^{-\\rho\\,T}-1)$$"
   ]
  }
 ],
 "metadata": {
  "kernelspec": {
   "display_name": "Python 2",
   "language": "python",
   "name": "python2"
  },
  "language_info": {
   "codemirror_mode": {
    "name": "ipython",
    "version": 2
   },
   "file_extension": ".py",
   "mimetype": "text/x-python",
   "name": "python",
   "nbconvert_exporter": "python",
   "pygments_lexer": "ipython2",
   "version": "2.7.9"
  }
 },
 "nbformat": 4,
 "nbformat_minor": 0
}
