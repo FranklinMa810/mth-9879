{
 "metadata": {
  "name": "",
  "signature": "sha256:1e38a240c966cde9653ee588bd382c14b247c38e2d68fa4802d3df066d0b9a43"
 },
 "nbformat": 3,
 "nbformat_minor": 0,
 "worksheets": [
  {
   "cells": [
    {
     "cell_type": "markdown",
     "metadata": {},
     "source": [
      "### <font color ='blue'> Weiyi Chen</font>"
     ]
    },
    {
     "cell_type": "markdown",
     "metadata": {},
     "source": [
      "# MTH9879 Homework 5\n",
      "\n",
      "Assigned: March 3, 2015.\n",
      "Due: March 17, 2015 by 6pm. \n"
     ]
    },
    {
     "cell_type": "markdown",
     "metadata": {},
     "source": [
      "## The Kyle (1985) model"
     ]
    },
    {
     "cell_type": "markdown",
     "metadata": {},
     "source": [
      "## Problem 1 (14 points)\n",
      "\n",
      "Suppose that the monopolistic trader in the Kyle (1985) model is not told the true value $\\tilde S$ but is instead given a signal $x=\\tilde S+\\epsilon$ with $\\epsilon \\sim N(0,\\sigma_\\epsilon^2)$, where $\\tilde S$ and $\\epsilon$ are assumed independent.\n",
      "\n",
      "\n",
      "(a) Compute the conditional expectation $\\mathbb{E}[\\tilde S|x]$."
     ]
    },
    {
     "cell_type": "markdown",
     "metadata": {},
     "source": [
      "### <font color='blue'>Solution</font>\n",
      "\n",
      "<font color='blue'>\n",
      "According to the given conditions, we have\n",
      "\n",
      "\\begin{equation}\n",
      "    x\\,|\\,\\tilde S \\sim N(\\tilde S, \\sigma^2_\\epsilon)\n",
      "\\end{equation}\n",
      "\n",
      "Apply Kalman filter,\n",
      "\\begin{equation}\n",
      "    \\tilde S\\,|\\,x \\sim N(\\beta x + (1 - \\beta)\\bar{\\tilde S} , (1 - \\beta) \\sigma_{\\tilde S} ^2 )\n",
      "\\end{equation}\n",
      "\n",
      "where\n",
      "\\begin{equation}\n",
      "\\beta = \\frac{\\tau _x}{\\tau_{\\tilde S} + \\tau_x} = \\frac{\\sigma^2}{\\sigma^2_\\epsilon +\\sigma^2}, \\bar{\\tilde S} = \\mu \n",
      "\\end{equation}\n",
      "\n",
      "Therefore, \n",
      "\\begin{equation}\n",
      "    \\mathbb{E}\\left[\\tilde S|x\\right] = \\mathbb{E}\\left[\\beta x + (1 - \\beta)\\bar{\\tilde S}\\right] = \\beta x + (1-\\beta)\\mu\n",
      "\\end{equation}"
     ]
    },
    {
     "cell_type": "markdown",
     "metadata": {},
     "source": [
      "(b) If $\\mathcal I$ assumes that the market maker $\\mathcal M$ generates a price function of the form $p=\\mu +\\lambda\\,y$, show that the informed trader's optimal (profit maximizing) demand is given by\n",
      "\n",
      "$$\n",
      "y_i=\\frac{\\phi}{2\\,\\lambda}\\,\\left(x-\\mu\\right)\n",
      "$$\n",
      "\n",
      "where\n",
      "\n",
      "$$\n",
      "\\phi = \\frac{\\sigma^2}{\\sigma^2+\\sigma_\\epsilon^2}.\n",
      "$$"
     ]
    },
    {
     "cell_type": "markdown",
     "metadata": {},
     "source": [
      "### <font color='blue'> Solution\n",
      "\n",
      "<font color='blue'>\n",
      "The goal of $\\mathcal{I}$ is to maximize his profit:\n",
      "\\begin{equation}\n",
      "    \\mathbb{E} \\left[y_i(\\tilde S-p(y))\\,|\\,x\\right] = \\mathbb{E} \\left[y_i(\\tilde S - (\\mu + \\lambda y))\\,|\\,x\\right]\n",
      "\\end{equation}\n",
      "\n",
      "Given part (a), we have\n",
      "\\begin{eqnarray*}\n",
      "\\mathbb{E} \\left[y_i(\\tilde S - (\\mu + \\lambda y))\\,|\\,x\\right]\n",
      "&=& \\mathbb{E} \\left[y_i (\\tilde S - \\mu -\\lambda (y_i + y_u)) \\,|\\, x \\right]\\\\\n",
      "&=& y_i \\left(\\mathbb{E} \\left[\\tilde S \\,|\\, x \\right] - \\mathbb{E} \\left[\\mu \\,|\\, x\\right] - \\mathbb{E} \\left[\\lambda y_i | x\\right] \\right) + \\mathbb{E} \\left[-\\lambda y_uy_i\\,|\\, x\\right]\\\\\n",
      "&=& y_i \\left[(\\phi x + (1 - \\phi) \\mu - \\mu - \\lambda y_i\\right]\\\\\n",
      "&=& y_i \\left[\\phi x - \\phi \\mu - \\lambda y_i\\right]\n",
      "\\end{eqnarray*}\n",
      "where $y_u$ is independent of $x$ with mean 0. Next set its derivative to be 0:\n",
      "\\begin{equation}\n",
      "\\frac{\\partial}{\\partial y_i} y_i \\left[\\phi x - \\phi \\mu - \\lambda y_i\\right] = \\phi x - \\phi \\mu - 2 \\lambda y_i = 0\n",
      "\\end{equation}\n",
      "\n",
      "We obtain the optimal demand:\n",
      "\\begin{equation}\n",
      "y_i = \\frac {\\phi (x - \\mu) }{2 \\lambda }\n",
      "\\end{equation}"
     ]
    },
    {
     "cell_type": "markdown",
     "metadata": {},
     "source": [
      "(c) Following the derivation from the lecture slides, use the result of (b) to deduce equation (11) in the lecture slides:\n",
      "\n",
      "$$\n",
      "\\lambda=\\frac{\\sigma}{2\\,\\sigma_u}\\,\\sqrt{\\phi}.\n",
      "$$"
     ]
    },
    {
     "cell_type": "markdown",
     "metadata": {},
     "source": [
      "###<font color = \"blue\">Solution\n",
      "\n",
      "<font color = \"blue\">\n",
      "Assume $\\mathcal{M}$ conjectures $\\mathcal{I}$ has demand function:\n",
      "\\begin{equation}\n",
      "    y_i = a + b \\tilde S\n",
      "\\end{equation}\n",
      "\n",
      "And we also have\n",
      "\\begin{equation}\n",
      "    \\mathbb{E}[\\tilde S|y] = \\mathbb{E}[\\tilde S] + \\frac{\\mbox{Cov}[\\tilde S, y]}{\\mbox{Var}[y]}(y-\\mathbb{E}[y])\n",
      "\\end{equation}\n",
      "where \n",
      "\\begin{equation}\n",
      "    \\mbox{Var}[y] = \\mbox{Var}[y_i + y_u] = \\sigma_u^2 + b^2 (\\sigma^2 + \\sigma_\\epsilon^2), \\mbox{Cov}[\\tilde S, y] = b = \n",
      "        \\frac{\\phi}{2\\lambda}\n",
      "\\end{equation}\n",
      "\n",
      "Plugging in the former equation, we find\n",
      "\\begin{equation}\n",
      "    \\lambda = \\frac{b \\sigma^2}{\\sigma_u^2 + b^2 (\\sigma^2 + \\sigma_\\epsilon^2)}\n",
      "\\end{equation}\n",
      "\n",
      "Plug in $b$ and solve it, it turns out to be\n",
      "\\begin{equation}\n",
      "    \\lambda=\\frac{\\sigma}{2\\,\\sigma_u}\\,\\sqrt{\\phi}.\n",
      "\\end{equation}"
     ]
    },
    {
     "cell_type": "markdown",
     "metadata": {},
     "source": [
      "## Problem 2 (2 points) \n",
      "In the Kyle model, if the characteristic uninformed demand $\\sigma_u$ increases by some factor $\\theta$, what happens to the optimal informed trader demand $y_i$?"
     ]
    },
    {
     "cell_type": "markdown",
     "metadata": {},
     "source": [
      "### <font color='blue'> Solution\n",
      "\n",
      "<font color='blue'>\n",
      "The market maker would maximize his profit by choosing optimal demand as\n",
      "\\begin{equation}\n",
      "y_i = \\frac{\\tilde S - \\mu}{2\\lambda} = \\frac{\\tilde S - \\mu}{\\sigma}\\sigma_u\n",
      "\\end{equation}\n",
      "where $\\lambda = \\sigma \\,/\\, (2\\sigma_u)$.\n",
      "\n",
      "Optimal informed trader demand's derivative w.r.t the characteristic uninformed demand is\n",
      "\\begin{equation}\n",
      "    \\frac{\\partial}{\\partial \\sigma_u}y_i = \\frac{\\tilde S - \\mu}{\\sigma} = C\n",
      "\\end{equation}\n",
      "where $C$ is some constant.\n",
      "\n",
      "So, if the characteristic uninformed demand $\\sigma_u$ increases by some factor $\\theta$, the optimal informed trader demand will increase by $\\theta$ as well."
     ]
    },
    {
     "cell_type": "markdown",
     "metadata": {},
     "source": [
      "## Problem 3 (6 points) \n",
      "\n",
      "As in Exercise 7.3 of Hasbrouck (but with different notation), suppose that a broker $\\mathcal P$ spots an insider and decides to submit his own piggyback orders.  Specifically, if $\\mathcal I$ submits demand $y_i$, $\\mathcal P$ submits demand $\\gamma\\,y_i$ with $\\gamma>0$.\n",
      "\n",
      "(a) Assuming that $\\mathcal I$ can detect how much piggyback order flow there is, deduce that the equilibrium Kyle lambda is unchanged from the original case where there are no piggyback orders.\n",
      "\n",
      "\n"
     ]
    },
    {
     "cell_type": "markdown",
     "metadata": {},
     "source": [
      "### <font color='blue'> Solution </font>\n",
      "\n",
      "<font color='blue'>\n",
      "The equilibrium Kyle lambda is\n",
      "\\begin{equation}\n",
      "    \\lambda = \\frac{b\\sigma^2}{\\sigma_u^2 + b^2 \\sigma^2}\n",
      "\\end{equation}\n",
      "\n",
      "The market maker $\\mathcal{M}$ does not know about $\\mathcal{P}$'s piggyback orders and will not make any changes to his choice as of\n",
      "\\begin{equation}\n",
      "    y_i = \\frac{\\tilde S-\\mu}{2\\lambda}=a+b\\tilde S\n",
      "\\end{equation}\n",
      "\n",
      "Therefore, $\\text{Var}[y]$, $\\text{Cov}[\\tilde S,y]$ and $b$ will not change as well, then the normal regression is unchanged, resulting in the equilibrium Kyle lambda unchanged."
     ]
    },
    {
     "cell_type": "markdown",
     "metadata": {},
     "source": [
      "(b) Derive expressions for $\\mathcal I$'s optimal demand $y_i$ and his expected P&L."
     ]
    },
    {
     "cell_type": "markdown",
     "metadata": {},
     "source": [
      "### <font color='blue'> Solution\n",
      "\n",
      "<font color='blue'>\n",
      "Following the same process as problem 1,\n",
      "\\begin{equation}\n",
      "    \\mathbb{E}[y_i (\\tilde S - p(y)) \\,|\\, \\tilde S] = \\mathbb{E}[y_i (\\tilde S - (\\mu + \\lambda(1 + \\gamma) y_i)) \\,|\\, \\tilde S] ) = \\tilde S y_i - \\mu y_i - \\lambda (1 + \\gamma) y_i ^2\n",
      "\\end{equation}\n",
      "where\n",
      "\\begin{equation}\n",
      "    p(y) = \\mu + \\lambda(y_i + y_u) = \\mu + \\lambda(1 + \\gamma) y_i \n",
      "\\end{equation}\n",
      "\n",
      "Set the derivative as 0, \n",
      "\\begin{equation}\n",
      "    \\frac {\\partial}{\\partial y_i}\\mathbb{E}[.] = \\tilde S - \\mu - 2\\lambda(1 + \\gamma)y_i = 0\n",
      "\\end{equation}\n",
      "\n",
      "We derive the optimal demand,\n",
      "\\begin{equation}\n",
      "    y_i = \\frac {\\tilde S - \\mu}{2\\lambda (1 + \\gamma)} = \\frac {(\\tilde S - \\mu) \\sigma_u} {(1 + \\gamma)\\sigma}\n",
      "\\end{equation}\n",
      "where $\\lambda = \\frac {\\sigma}{2\\sigma_u}$.\n",
      "\n",
      "Plugging in, we have his corresponding expected P&L as of\n",
      "\\begin{equation}\n",
      "\\mathbb{E}[.] = \\tilde S y_i - \\mu y_i - \\lambda (1 + \\gamma) y_i ^2 = \\frac {\\sigma_u(\\tilde S - \\mu)^2 } {2\\sigma(1 + \\gamma)}\n",
      "\\end{equation}"
     ]
    },
    {
     "cell_type": "markdown",
     "metadata": {},
     "source": [
      "(c) Explain to a non-expert what happens to your trade capacity and your profitability if someone is piggybacking on your trades."
     ]
    },
    {
     "cell_type": "markdown",
     "metadata": {},
     "source": [
      "### <font color='blue'> Solution\n",
      "\n",
      "<font color='blue'>\n",
      "Your trade capacity and your profitability will be smaller if someone is piggybacking on your trades. \n",
      "\n",
      "The piggybacking trades increase the market impact from your trades and decrease the liquidity in the market meanwhile, caused by an extent as of $\\lambda$. Then the market maker will demand a higher price to remain the liquidity, resulting in a decrease on your trade capacity and your profitability."
     ]
    }
   ],
   "metadata": {}
  }
 ]
}