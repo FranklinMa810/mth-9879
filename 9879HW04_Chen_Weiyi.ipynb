{
 "metadata": {
  "name": "",
  "signature": "sha256:5750e28af99592c3b10abddb21df0ca59dd4a22853194a432a6387b652ac8c31"
 },
 "nbformat": 3,
 "nbformat_minor": 0,
 "worksheets": [
  {
   "cells": [
    {
     "cell_type": "markdown",
     "metadata": {},
     "source": [
      "# <font color=\"blue\"> Weiyi Chen"
     ]
    },
    {
     "cell_type": "markdown",
     "metadata": {},
     "source": [
      "# MTH9879 Homework 4\n",
      "\n",
      "Assigned: February 24, 2015.\n",
      "Due: March 10, 2015 by 6pm. \n",
      "\n",
      "Late homework **will not be accepted**.\n",
      "\n",
      "$$\n",
      "\\newcommand{\\supp}{\\mathrm{supp}}\n",
      "\\newcommand{\\E}{\\mathbb{E}}\n",
      "\\newcommand{\\Eof}[1]{\\mathbb{E}\\left[ #1 \\right]}\n",
      "\\def\\Cov{{ \\mbox{Cov} }}\n",
      "\\def\\Var{{ \\mbox{Var} }}\n",
      "\\newcommand{\\1}{\\mathbf{1} }\n",
      "\\newcommand{\\PP}{\\mathbb{P} }\n",
      "%\\newcommand{\\Pr}{\\mathrm{Pr} }\n",
      "\\newcommand{\\QQ}{\\mathbb{Q} }\n",
      "\\newcommand{\\RR}{\\mathbb{R} }\n",
      "\\newcommand{\\DD}{\\mathbb{D} }\n",
      "\\newcommand{\\HH}{\\mathbb{H} }\n",
      "\\newcommand{\\spn}{\\mathrm{span} }\n",
      "\\newcommand{\\cov}{\\mathrm{cov} }\n",
      "\\newcommand{\\sgn}{\\mathrm{sgn} }\n",
      "\\newcommand{\\HS}{\\mathcal{L}_{\\mathrm{HS}} }\n",
      "%\\newcommand{\\HS}{\\mathrm{HS} }\n",
      "\\newcommand{\\trace}{\\mathrm{trace} }\n",
      "\\newcommand{\\LL}{\\mathcal{L} }\n",
      "%\\newcommand{\\LL}{\\mathrm{L} }\n",
      "\\newcommand{\\s}{\\mathcal{S} }\n",
      "\\newcommand{\\ee}{\\mathcal{E} }\n",
      "\\newcommand{\\ff}{\\mathcal{F} }\n",
      "\\newcommand{\\hh}{\\mathcal{H} }\n",
      "\\newcommand{\\bb}{\\mathcal{B} }\n",
      "\\newcommand{\\dd}{\\mathcal{D} }\n",
      "\\newcommand{\\g}{\\mathcal{G} }\n",
      "\\newcommand{\\p}{\\partial}\n",
      "\\newcommand{\\half}{\\frac{1}{2} }\n",
      "\\newcommand{\\T}{\\mathcal{T} }\n",
      "\\newcommand{\\bi}{\\begin{itemize}}\n",
      "\\newcommand{\\ei}{\\end{itemize}}\n",
      "\\newcommand{\\beq}{\\begin{equation}}\n",
      "\\newcommand{\\eeq}{\\end{equation}}\n",
      "\\newcommand{\\beas}{\\begin{eqnarray*}}\n",
      "\\newcommand{\\eeas}{\\end{eqnarray*}}\n",
      "\\newcommand{\\cO}{\\mathcal{O}}\n",
      "\\newcommand{\\cF}{\\mathcal{F}}\n",
      "\\newcommand{\\cL}{\\mathcal{L}}\n",
      "\\newcommand{\\BS}{\\text{BS}}\n",
      "$$"
     ]
    },
    {
     "cell_type": "markdown",
     "metadata": {},
     "source": [
      "<font color = \"red\">Homework is to be done by each student individually.  To receive full credit, you must email a completed copy of this iPython notebook to Yu Gan (yugan323@gmail.com), Fubo Shi (fubo.shi.baruch@gmail.com), and Tai-Ho Wang (tai-ho.wang@baruch.cuny.edu) by the due date and time.  All R-code must run correctly and solutions must be written up neatly in Markdown/LaTeX format.\n",
      "\n",
      "<font color=\"blue\">If you encounter problems with Markdown/LaTeX or iPython notebook, please contact your TAs Yu Gan and/or Fubo Shi.\n"
     ]
    },
    {
     "cell_type": "markdown",
     "metadata": {},
     "source": [
      "### 0. (0 points) \n",
      "Read Chapter 5 and 6 of Hasbrouck and Chapters 2 and 3 of Foucault, Pagano and R&ouml;ell. \n"
     ]
    },
    {
     "cell_type": "markdown",
     "metadata": {},
     "source": [
      "## Glosten and Milgrom"
     ]
    },
    {
     "cell_type": "markdown",
     "metadata": {},
     "source": [
      "### 1. (8 points) \n",
      "\n",
      "(Adapted from Hasbrouck 5.2 but please note that the setup in (3) in the slides is different from Hasbrouck's in Figure 5.1 of his book.) Consider a variant of the Glosten and Milgrom model where there is informed trading only in the low state $V=\\underline V$.\n",
      "\n",
      "(a) Show that the learned probability after one step that the true price is $\\bar V$ is given by\n",
      "\n",
      "$$\n",
      "\\delta_1(Buy)=\\Pr(\\bar V|Buy)=\\frac{\\delta}{1-\\mu\\,(1-\\delta)};\\quad \\delta_1(Sell)=\\Pr(\\bar V|Sell)=\\frac{\\delta}{1+\\mu\\,(1-\\delta)}\n",
      "$$\n",
      "\n",
      "and that\n",
      "\n",
      "$$\n",
      "A=\\frac{\\underline V\\,{(1-\\delta)\\,(1-\\mu)}+\\bar V\\,{\\delta}}{{1-\\mu\\,(1-\\delta)}};\\quad B=\\frac{\\underline V\\,{(1-\\delta)\\,(1+\\mu)}+\\bar V\\,{\\delta}}{1+\\mu\\,(1-\\delta)}\n",
      "$$\n",
      "\n",
      "(b) Deduce an expression for the spread $s=A-B$.\n",
      "\n",
      "(c) Explain the sensitivities of the spread to the parameters of the model to a non-expert.\n"
     ]
    },
    {
     "cell_type": "markdown",
     "metadata": {},
     "source": [
      "## <font color=\"blue\"> Solution \n",
      "\n",
      "<font color=\"blue\">\n",
      "#### (a) \n",
      "\n",
      "The learned probability after one step that the true price is $\\bar V$ is given by\n",
      "\n",
      "\\begin{equation}\n",
      "\\delta_1(\\text{Buy})=\\Pr(\\bar V|\\text{Buy})\n",
      "=\\frac{\\Pr(\\bar V \\cap \\text{Buy})}{\\Pr(\\text{Buy})}\n",
      "=\\frac{\\frac 12 \\delta}{\\frac 12[1-\\mu(1-\\delta)]}\n",
      "=\\frac{\\delta}{1-\\mu\\,(1-\\delta)}\n",
      "\\end{equation}\n",
      "\n",
      "\\begin{equation}\n",
      "\\delta_1(\\text{Sell})=\\Pr(\\bar V|\\text{Sell})\n",
      "=\\frac{\\Pr(\\bar V \\cap \\text{Sell})}{\\Pr(\\text{Sell})}\n",
      "=\\frac{\\frac 12 \\delta}{\\frac 12 [1+\\mu(1-\\delta)]} \n",
      "=\\frac{\\delta}{1+\\mu\\,(1-\\delta)}\n",
      "\\end{equation}\n",
      "\n",
      "and that\n",
      "\n",
      "\\begin{equation}\n",
      "A=\\E(V|\\text{Buy})\n",
      "=\\bar V \\Pr(\\bar V|\\text{Buy})+\\underline V \\Pr(\\underline V|\\text{Buy})\n",
      "=\\frac{\\underline V\\,{(1-\\delta)\\,(1-\\mu)}+\\bar V\\,{\\delta}}{{1-\\mu\\,(1-\\delta)}}\n",
      "\\end{equation}\n",
      "\n",
      "\\begin{equation}\n",
      "B=\\E(V|\\text{Sell})\n",
      "={\\bar V\\,\\Pr(\\bar V|\\text{Sell})+\\underline V\\,\\Pr(\\underline V|\\text{Sell})}\n",
      "=\\frac{\\underline V\\,{(1-\\delta)\\,(1+\\mu)}+\\bar V\\,{\\delta}}{1+\\mu\\,(1-\\delta)}\n",
      "\\end{equation}\n",
      "\n",
      "#### (b) \n",
      "The Spread:\n",
      "\\begin{equation}\n",
      "s=A-B\n",
      "=\\frac{2(\\bar V - \\underline V)\\mu\\delta(1-\\delta)}{1-\\mu^2(1-\\delta)^2}\n",
      "\\end{equation}\n",
      "\n",
      "#### (c) \n",
      "\n",
      "##### paramter $\\bar V - \\underline V$\n",
      "As the spread between the asset prices increases, the spread increases which implies a source of risk should be compensated by a larger bid-ask spread.  \n",
      "##### paramter $\\mu$\n",
      "As $\\mu$ increases, the spread increases which implies an increase of the impact in adverse selection should be compensated by a larger bid-ask spread.  \n",
      "##### paramter $\\delta$\n",
      "As $\\delta$ decreases, the spread increases, which implies adverse selection occurs in the case of a sell order."
     ]
    },
    {
     "cell_type": "markdown",
     "metadata": {},
     "source": [
      "### Set up R environment for the next questions"
     ]
    },
    {
     "cell_type": "code",
     "collapsed": false,
     "input": [
      "%load_ext rmagic"
     ],
     "language": "python",
     "metadata": {},
     "outputs": [],
     "prompt_number": 1
    },
    {
     "cell_type": "code",
     "collapsed": false,
     "input": [
      "%%R\n",
      "download.file(url=\"http://mfe.baruch.cuny.edu/wp-content/uploads/2015/02/tq.zip\", destfile=\"tq.zip\")\n",
      "unzip(zipfile=\"tq.zip\")"
     ],
     "language": "python",
     "metadata": {},
     "outputs": [
      {
       "metadata": {},
       "output_type": "display_data",
       "text": [
        "trying URL 'http://mfe.baruch.cuny.edu/wp-content/uploads/2015/02/tq.zip'\n",
        "Content type 'application/zip' length 695952 bytes (679 Kb)\n",
        "opened URL\n",
        "==================================================\n",
        "downloaded 679 Kb\n",
        "\n"
       ]
      }
     ],
     "prompt_number": 2
    },
    {
     "cell_type": "code",
     "collapsed": false,
     "input": [
      "%%R\n",
      "load(\"tq.rData\")\n",
      "# install.packages(\"highfrequency\")\n",
      "# install.packages(\"quantmod\")\n",
      "library(highfrequency)\n",
      "library(quantmod)"
     ],
     "language": "python",
     "metadata": {},
     "outputs": [
      {
       "metadata": {},
       "output_type": "display_data",
       "text": [
        "Loading required package: xts\n",
        "Loading required package: zoo\n",
        "\n",
        "Attaching package: \u2018zoo\u2019\n",
        "\n",
        "The following objects are masked from \u2018package:base\u2019:\n",
        "\n",
        "    as.Date, as.Date.numeric\n",
        "\n",
        "Loading required package: TTR\n",
        "Version 0.4-0 included new data defaults. See ?getSymbols.\n",
        "\n",
        "Attaching package: \u2018quantmod\u2019\n",
        "\n",
        "The following objects are masked from \u2018package:highfrequency\u2019:\n",
        "\n",
        "    getPrice, has.Qty\n",
        "\n"
       ]
      }
     ],
     "prompt_number": 3
    },
    {
     "cell_type": "markdown",
     "metadata": {},
     "source": [
      "## The Lee and Ready tick test"
     ]
    },
    {
     "cell_type": "markdown",
     "metadata": {},
     "source": [
      "### 2. (10 points) \n",
      "\n",
      "In the following use the trades and quotes object *tqBAC* in the loaded data *tq.rData*.  Denote trade prices by $p_t$ and mid-quotes by $m_t$.\n",
      "\n",
      "(a) Compute the time series of trade signs $\\epsilon_t$ according to $\\epsilon_t=+1$ if $p_t>m_t$ and  $\\epsilon_t=-1$ otherwise, using the Lee-Ready rule for trades at mid.  Name this series *tradeSigns*. (Note this was already done in the lecture.)\n",
      "\n",
      "(b) Compute the Lee-Ready trade-sign indicator time series (as if you didn't have quotes and so no mid-prices).\n",
      "\n",
      "(c) Compute the correlation of these two indicators.\n",
      "\n",
      "(d) Assume the rule in part (a) is 100% accurate.  What percentage of trades are correctly signed by the Lee-Ready test?\n",
      "\n",
      "(e) Explain the relationship between your answers in (c) and (d).\n"
     ]
    },
    {
     "cell_type": "markdown",
     "metadata": {},
     "source": [
      "## <font color='blue'> Solution:"
     ]
    },
    {
     "cell_type": "code",
     "collapsed": false,
     "input": [
      "%%R\n",
      "\n",
      "# (a) Compute the time series of trade signs\n",
      "\n",
      "tradeSigns = getTradeDirection(tqBAC) \n",
      "\n",
      "# (b) Compute the Lee-Ready trade-sign indicator time series\n",
      "\n",
      "ts_price = as.numeric(tqBAC$PRICE)\n",
      "len_price = length(ts_price)\n",
      "ts_indicator = rep(0,length(ts_price)-1)\n",
      "ts_indicator[1] = 1\n",
      "\n",
      "for(i in 2:len_price){\n",
      "    if (ts_price[i] > ts_price[i-1])\n",
      "        ts_indicator[i-1] = 1\n",
      "    else if (ts_price[i] < ts_price[i-1])\n",
      "        ts_indicator[i-1] = -1\n",
      "    else\n",
      "        ts_indicator[i-1] = ts_indicator[i-2]   \n",
      "}\n",
      "            \n",
      "# (c) Compute the correlation of these two indicators\n",
      "            \n",
      "correlation = cor(ts_indicator, tradeSigns[-1])\n",
      "cat(\"(c) The correlation of these two indicators:\", correlation, \"\\n\")\n",
      "            \n",
      "# (d) What percentage of trades are correctly signed by the Lee-Ready test?\n",
      "            \n",
      "num_count = 0\n",
      "for (i in 1:(len_price-1))\n",
      "    if (ts_indicator[i]==tradeSigns[i+1]) \n",
      "        num_count = num_count+1\n",
      "cat(\"(d) The percentage of trades correctly signed by the Lee-Ready test:\", num_count/(len_price-1)*100, '%\\n')\n",
      "\n",
      "# (e) The relationship between your answers in (c) and (d).\n",
      "        \n",
      "cat(\"(e) The larger the correlation, the larger the percentage number.\")"
     ],
     "language": "python",
     "metadata": {},
     "outputs": [
      {
       "metadata": {},
       "output_type": "display_data",
       "text": [
        "(c) The correlation of these two indicators: 0.6618357 \n",
        "(d) The percentage of trades correctly signed by the Lee-Ready test: 82.97026 %\n",
        "(e) The larger the correlation, the larger the percentage number."
       ]
      }
     ],
     "prompt_number": 8
    },
    {
     "cell_type": "markdown",
     "metadata": {},
     "source": [
      "## Realized spread by exchange"
     ]
    },
    {
     "cell_type": "markdown",
     "metadata": {},
     "source": [
      "### 3. (8 points)\n",
      "\n",
      "(a) Reproduce Figure 6 from the lecture slides, making sure to get the aesthetics right.\n",
      "\n",
      "(b) Explain why the realized spread profile varies by exchange.\n",
      "\n",
      "(c) Redo the picture adjusting for the following (assumed) take fees:\n",
      "\n",
      "** Exchange ** | ** Take fee ** \n",
      "--- | --- \n",
      "| (**cents**)\n",
      "D | 0.10 \n",
      "B | -0.04\n",
      "Z | 0.29\n",
      "Y | 0.00\n",
      "P | 0.25\n",
      "\n",
      "(d) Based on your results, where would you advise sending a small market order?  How about a large one?\n"
     ]
    },
    {
     "cell_type": "code",
     "collapsed": false,
     "input": [
      "%%R\n",
      "\n",
      "# create a function to generate rsLags\n",
      "\n",
      "rsLag <- function(ex) {\n",
      "    set <- subset(tqBAC, tqBAC$EX==ex)\n",
      "    ts_mids <- (as.numeric(set$OFR) + as.numeric(set$BID))/2\n",
      "    ts_price <- as.numeric(set$PRICE)\n",
      "    len_price <- length(ts_price)\n",
      "    tradeSigns <- getTradeDirection(set)\n",
      "    rs <- function(lag){mean(tradeSigns[1:(len_price-lag)]*(ts_price[1:(len_price-lag)]-ts_mids[-(1:lag)]))}\n",
      "    rsLag <- sapply(1:50,rs)\n",
      "    return (rsLag)\n",
      "}\n",
      "\n",
      "# create rsLags for differen\n",
      "\n",
      "rsLagD <- rsLag('D')\n",
      "rsLagB <- rsLag('B')\n",
      "rsLagZ <- rsLag('Z')\n",
      "rsLagY <- rsLag('Y')\n",
      "rsLagP <- rsLag('P')\n",
      "\n",
      "# Reproduce Figure 6 from the lecture slides\n",
      "\n",
      "plot(x=1:50,y=rsLagD,col=\"red\",type=\"l\",xlab=expression(tau), ylab = \"Realized spread\", ylim=c(-0.003, 0.008))\n",
      "lines(x=1:50,y=rsLagB,col=\"blue\")\n",
      "lines(x=1:50,y=rsLagZ,col=\"orange\")\n",
      "lines(x=1:50,y=rsLagY,col=\"purple\")\n",
      "lines(x=1:50,y=rsLagP,col=\"green\")\n",
      "legend(\"topright\", \n",
      "       c(\"D...FINRA\",\"B...NASDAQ OMX BX Stock Ex\",\"Z...BATS Exchange\",\"Y...BATS Y-Exchange\",\"P...NYSE Arca SM\"),\n",
      "       lty = c(1,1,1,1,1), \n",
      "       col=c(\"red\",\"blue\",\"yellow\",\"purple\",\"green\"))\n"
     ],
     "language": "python",
     "metadata": {},
     "outputs": [
      {
       "metadata": {},
       "output_type": "display_data",
       "png": "[encoded data removed]"
      }
     ],
     "prompt_number": 32
    },
    {
     "cell_type": "markdown",
     "metadata": {},
     "source": [
      "<font color='blue'>\n",
      "(b) As different exchanges have their own fee structures, and a market taker would choose his execution venue based on transaction costs, therefore the fee structure will decide where a market taker executes at."
     ]
    },
    {
     "cell_type": "markdown",
     "metadata": {},
     "source": [
      "<font color='blue'>\n",
      "(c) Below the R codes to new fees:"
     ]
    },
    {
     "cell_type": "code",
     "collapsed": false,
     "input": [
      "%%R\n",
      "plot(x=1:50,y=rsLagD+0.001*2,col=\"red\",type=\"l\",xlab=expression(tau), ylab = \"Realized spread\", ylim=c(-0.003, 0.012))\n",
      "lines(x=1:50,y=rsLagB-0.0004*2,col=\"blue\")\n",
      "lines(x=1:50,y=rsLagZ+0.0029*2,col=\"orange\")\n",
      "lines(x=1:50,y=rsLagY,col=\"purple\")\n",
      "lines(x=1:50,y=rsLagP+0.0025*2,col=\"green\")"
     ],
     "language": "python",
     "metadata": {},
     "outputs": [
      {
       "metadata": {},
       "output_type": "display_data",
       "png": "[encoded data removed]"
      }
     ],
     "prompt_number": 33
    },
    {
     "cell_type": "markdown",
     "metadata": {},
     "source": [
      "<font color='blue'>\n",
      "\n",
      "(d) \n",
      "\n",
      "For a small one, take care about the fees, while for a larger one, take care about liquidity, because liquidity will be larger for a market order, and the cost for the order is comparably small. In conclude, it's a tradeoff between liquidity and fees."
     ]
    },
    {
     "cell_type": "markdown",
     "metadata": {},
     "source": [
      "## Predicting trade signs"
     ]
    },
    {
     "cell_type": "markdown",
     "metadata": {},
     "source": [
      "### 4. (6 points) \n",
      "\n",
      "The following require the *tradeSigns* series from Problem 2.\n",
      "\n",
      "(a) Denote the probability of a sign reversal by $\\pi$.  Derive an expression in terms of $\\pi$ for the conditional expectation $\\E[\\epsilon_t|\\epsilon_{t-1}]$.\n",
      "\n",
      "(b) Assume zero expectation of the trading signs, fit an AR(1) model to the series *tradeSigns*.  What is the coefficient returned by this model?  Explain how  this coefficient relates to $\\pi$?\n"
     ]
    },
    {
     "cell_type": "markdown",
     "metadata": {},
     "source": [
      "## <font color='blue'> Solution:"
     ]
    },
    {
     "cell_type": "markdown",
     "metadata": {},
     "source": [
      "#### <font color='blue'>(a)\n",
      "\n",
      "<font color='blue'>\n",
      "The expression in terms of $\\pi$ for the conditional expectation $\\E[\\epsilon_t|\\epsilon_{t-1}]$:\n",
      "\n",
      "\\begin{equation}\n",
      "    \\E[\\epsilon_{t}|\\epsilon_{t-1}] = \\epsilon_{t-1}(1-2\\pi)\n",
      "\\end{equation}"
     ]
    },
    {
     "cell_type": "markdown",
     "metadata": {},
     "source": [
      "#### <font color='blue'> (b) \n",
      "\n",
      "<font color='blue'>\n",
      "Fit an AR(1) model to the series *tradeSigns*:"
     ]
    },
    {
     "cell_type": "code",
     "collapsed": false,
     "input": [
      "%%R\n",
      "\n",
      "# same process of problem 2\n",
      "\n",
      "tradeSigns <- getTradeDirection(tqBAC) \n",
      "\n",
      "# create epsilon_t and epsilon_{t-1}\n",
      "\n",
      "epsilon_t = tradeSigns[1:(length(tradeSigns)-1)]\n",
      "epsilon_t_1 = tradeSigns[2:length(tradeSigns)]\n",
      "\n",
      "# calculate coefficient\n",
      "\n",
      "df_tradeSigns = data.frame(epsilon_t, epsilon_t_1)\n",
      "df_tradeSigns.lm = lm(epsilon_t ~ epsilon_t_1, data=df_tradeSigns)\n",
      "cat(\"(b) The coefficient returned by this model:\", coefficients(df_tradeSigns.lm)[2])"
     ],
     "language": "python",
     "metadata": {},
     "outputs": [
      {
       "metadata": {},
       "output_type": "display_data",
       "text": [
        "(b) The coefficient returned by this model: 0.08153492"
       ]
      }
     ],
     "prompt_number": 10
    },
    {
     "cell_type": "markdown",
     "metadata": {},
     "source": [
      "<font color='blue'>\n",
      "The coefficient is close to 0, which implies the two *tradeSigns* are almost independent. \n",
      "\n",
      "In addition, given $\\epsilon_t=\\rho\\epsilon_{t-1}+\\eta_t$ we have \n",
      "\n",
      "\\begin{equation}\n",
      "\\E[\\epsilon_t|\\epsilon_{t-1}]=\\rho\\epsilon_{t-1}\n",
      "\\end{equation}\n",
      "\n",
      "Therefore we could conclude that\n",
      "\n",
      "\\begin{equation}\n",
      "\\rho\\approx (1-2\\pi)\n",
      "\\end{equation}"
     ]
    },
    {
     "cell_type": "markdown",
     "metadata": {},
     "source": [
      "## The MRR model"
     ]
    },
    {
     "cell_type": "markdown",
     "metadata": {},
     "source": [
      "### 5. (6 points)\n",
      "Using the estimate of $\\rho$ (the coefficient obtained from fitting to an AR(1) model) from Problem 4 and equation (11) from the lecture slides:\n",
      "\n",
      "$$\n",
      "\\Delta p_t=(\\phi+\\lambda)\\,\\epsilon_t-(\\phi+\\rho\\,\\lambda)\\,\\epsilon_{t-1}+e_t+\\Delta \\xi_t\n",
      "$$\n",
      "\n",
      "estimate by linear regression the MRR parameters $\\phi$ (transaction cost) and $\\lambda$ (adverse selection or \"Kyle lambda\") from  *tqBAC*.  This amounts to ignoring the autocorrelation of the $\\Delta \\xi_t$.\n",
      "<br>\n",
      "\n",
      "Hint: Use the R function *lm*  to perform the linear regressions."
     ]
    },
    {
     "cell_type": "markdown",
     "metadata": {},
     "source": [
      "## <font color='blue'> Solution:\n",
      "\n",
      "<font color='blue'>\n",
      "Below are the R code to perform linear regression:"
     ]
    },
    {
     "cell_type": "code",
     "collapsed": false,
     "input": [
      "%%R\n",
      "ts_change = ts_price[2:len_price]-ts_price[1:(len_price-1)]\n",
      "df_tradeSigns = data.frame(epsilon_t, epsilon_t_1, ts_change)\n",
      "df_tradeSigns.lm = lm(ts_change ~ epsilon_t+epsilon_t_1, data=df_tradeSigns)\n",
      "cat(\"The coefficients of the model:\", coefficients(df_tradeSigns.lm)[2], coefficients(df_tradeSigns.lm)[3])"
     ],
     "language": "python",
     "metadata": {},
     "outputs": [
      {
       "metadata": {},
       "output_type": "display_data",
       "text": [
        "The coefficients of the model: -0.002336749 0.002876938"
       ]
      }
     ],
     "prompt_number": 13
    },
    {
     "cell_type": "markdown",
     "metadata": {},
     "source": [
      "<font color='blue'>\n",
      "Given\n",
      "\n",
      "\\begin{equation}\n",
      "\\phi+\\lambda=-0.002336749, -(\\phi+\\rho\\lambda)=0.002876938\n",
      "\\end{equation}\n",
      "\n",
      "We are able to derive\n",
      "\n",
      "\\begin{equation}\n",
      "\\phi=-0.00292489, \\lambda=0.00058814\n",
      "\\end{equation}"
     ]
    }
   ],
   "metadata": {}
  }
 ]
}