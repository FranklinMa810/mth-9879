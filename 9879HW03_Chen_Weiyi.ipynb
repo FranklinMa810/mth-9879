{
 "metadata": {
  "name": "",
  "signature": "sha256:6385b3b6d9e18747ab16772116828e34d98e08326ceac2bc60022f7ae5c1d877"
 },
 "nbformat": 3,
 "nbformat_minor": 0,
 "worksheets": [
  {
   "cells": [
    {
     "cell_type": "markdown",
     "metadata": {},
     "source": [
      "# <font color = \"blue\"> Weiyi Chen"
     ]
    },
    {
     "cell_type": "markdown",
     "metadata": {},
     "source": [
      "# MTH9879 Homework 3\n",
      "\n",
      "Assigned: February 17, 2015.\n",
      "Due: March 3, 2015 by 6pm. \n",
      "\n",
      "$$\n",
      "\\newcommand{\\supp}{\\mathrm{supp}}\n",
      "\\newcommand{\\E}{\\mathbb{E}}\n",
      "\\newcommand{\\Eof}[1]{\\mathbb{E}\\left[ #1 \\right]}\n",
      "\\def\\Cov{{ \\mbox{Cov} }}\n",
      "\\def\\Var{{ \\mbox{Var} }}\n",
      "\\newcommand{\\1}{\\mathbf{1} }\n",
      "\\newcommand{\\PP}{\\mathbb{P} }\n",
      "%\\newcommand{\\Pr}{\\mathrm{Pr} }\n",
      "\\newcommand{\\QQ}{\\mathbb{Q} }\n",
      "\\newcommand{\\RR}{\\mathbb{R} }\n",
      "\\newcommand{\\DD}{\\mathbb{D} }\n",
      "\\newcommand{\\HH}{\\mathbb{H} }\n",
      "\\newcommand{\\spn}{\\mathrm{span} }\n",
      "\\newcommand{\\cov}{\\mathrm{cov} }\n",
      "\\newcommand{\\sgn}{\\mathrm{sgn} }\n",
      "\\newcommand{\\HS}{\\mathcal{L}_{\\mathrm{HS}} }\n",
      "%\\newcommand{\\HS}{\\mathrm{HS} }\n",
      "\\newcommand{\\trace}{\\mathrm{trace} }\n",
      "\\newcommand{\\LL}{\\mathcal{L} }\n",
      "%\\newcommand{\\LL}{\\mathrm{L} }\n",
      "\\newcommand{\\s}{\\mathcal{S} }\n",
      "\\newcommand{\\ee}{\\mathcal{E} }\n",
      "\\newcommand{\\ff}{\\mathcal{F} }\n",
      "\\newcommand{\\hh}{\\mathcal{H} }\n",
      "\\newcommand{\\bb}{\\mathcal{B} }\n",
      "\\newcommand{\\dd}{\\mathcal{D} }\n",
      "\\newcommand{\\g}{\\mathcal{G} }\n",
      "\\newcommand{\\p}{\\partial}\n",
      "\\newcommand{\\half}{\\frac{1}{2} }\n",
      "\\newcommand{\\T}{\\mathcal{T} }\n",
      "\\newcommand{\\bi}{\\begin{itemize}}\n",
      "\\newcommand{\\ei}{\\end{itemize}}\n",
      "\\newcommand{\\beq}{\\begin{equation}}\n",
      "\\newcommand{\\eeq}{\\end{equation}}\n",
      "\\newcommand{\\beas}{\\begin{eqnarray*}}\n",
      "\\newcommand{\\eeas}{\\end{eqnarray*}}\n",
      "\\newcommand{\\cO}{\\mathcal{O}}\n",
      "\\newcommand{\\cF}{\\mathcal{F}}\n",
      "\\newcommand{\\cL}{\\mathcal{L}}\n",
      "\\newcommand{\\BS}{\\text{BS}}\n",
      "$$"
     ]
    },
    {
     "cell_type": "markdown",
     "metadata": {},
     "source": [
      "### 0. (0 points) \n",
      "Read Chapter 11 of Hasbrouck and Section 3.5 of Foucault, Pagano and R&ouml;ell. <br>\n",
      "Also, read the article on high-frequency trading by Menkveld."
     ]
    },
    {
     "cell_type": "code",
     "collapsed": false,
     "input": [
      "%load_ext rpy2.ipython"
     ],
     "language": "python",
     "metadata": {},
     "outputs": [
      {
       "output_type": "stream",
       "stream": "stdout",
       "text": [
        "The rpy2.ipython extension is already loaded. To reload it, use:\n",
        "  %reload_ext rpy2.ipython\n"
       ]
      }
     ],
     "prompt_number": 2
    },
    {
     "cell_type": "markdown",
     "metadata": {},
     "source": [
      "## The Garman (1976) model"
     ]
    },
    {
     "cell_type": "markdown",
     "metadata": {},
     "source": [
      "### Question 1\n",
      "Suppose supply and demand functions satisfy\n",
      "\n",
      "$$\n",
      "P_A(\\lambda) = 101 \u2212 18\\lambda + \\lambda^2; \\; P_B(\\lambda) = 61 + 2\\lambda + \\lambda^2,\n",
      "$$\n",
      "\n",
      "where $\\lambda$ is the market order arrival rate per minute and $P_B(\\cdot)$ and $P_A(\\cdot)$ denote supply and demand curves respectively. <br>\n",
      "Determine the dealer\u2019s optimal bid $B$ and ask $A$ and the average profit per minute."
     ]
    },
    {
     "cell_type": "markdown",
     "metadata": {},
     "source": [
      "### <font color = \"blue\"> Solution:\n",
      "<font color = \"blue\">\n",
      "The dealer's perpose is to maximize the total profit as of:\n",
      "$$ \\textbf{P} = \\lambda \\times (P_A (\\lambda) - P_B (\\lambda)) = (40-20\\lambda)\\lambda $$\n",
      "\n",
      "Let differential be zero:\n",
      "$$ \\frac{d\\textbf{P}}{d\\lambda} = - 40 \\lambda + 40 = 0 $$\n",
      "\n",
      "We derive:\n",
      "$$ \\lambda^* = 1 $$\n",
      "\n",
      "where the dealer\u2019s optimal bid $B$ and ask $A$:\n",
      "\n",
      "\\begin{cases} \n",
      "    P_A^*(\\lambda^*) &= 84 \\\\ \n",
      "    P_B^*(\\lambda^*) &= 64 \n",
      "\\end{cases} \n",
      "\n",
      "And the average profit per minute:\n",
      "$$ \\lambda^*(P_A^* - P_B^*) = 20 $$"
     ]
    },
    {
     "cell_type": "markdown",
     "metadata": {},
     "source": [
      "## The Stoll (1978) model"
     ]
    },
    {
     "cell_type": "markdown",
     "metadata": {},
     "source": [
      "### Question 2\n",
      "In the Stoll (1978) model, assuming exponential utility with $S \\sim N(\\mu, \\sigma^2)$, and with current inventory $q$ shares, what are the dealer\u2019s indifference bid and ask prices for $n$ shares?"
     ]
    },
    {
     "cell_type": "markdown",
     "metadata": {},
     "source": [
      "### <font color = \"blue\">Solution:"
     ]
    },
    {
     "cell_type": "markdown",
     "metadata": {},
     "source": [
      "<font color = \"blue\">\n",
      "According to the condition of indifference bid and ask prices for $n$ shares:\n",
      "\n",
      "$$ \\E[U\\left((q+n)S-nB\\right)]=\\E[U(q\\,S)] $$\n",
      "\n",
      "since \n",
      "\n",
      "\\begin{cases}\n",
      "\\E[U(q\\,S)] &= q\\E[S]-\\frac{\\alpha}{2}\\Var[q\\,S] \\\\\n",
      "\\E[U\\left((q+n)S-nB\\right)] &= (q+n)\\E[S]-nB-\\frac{\\alpha}{2}\\Var[(q+n)\\,S]\n",
      "\\end{cases}\n",
      "\n",
      "Putting in, we solve it and derive:\n",
      "\\begin{equation}\n",
      "B = \\mu - \\frac {\\alpha}{2}(n + 2q)\\sigma^2\n",
      "\\end{equation}\n",
      "\n",
      "Similarly,\n",
      "\n",
      "\\begin{equation}\n",
      "A = \\mu + \\frac {\\alpha}{2}(n - 2q)\\sigma^2\n",
      "\\end{equation}"
     ]
    },
    {
     "cell_type": "markdown",
     "metadata": {},
     "source": [
      "### Question 3\n",
      "As mentioned in Lecture 3, in real markets, bid and ask prices $B$ and $A$ are typically given and the dealer must decide how much size to quote at these fixed prices.  Suppose there are currently $Q_A$ offered and $Q_B$ shares bid.  According to Lecture 1,\n",
      "\n",
      "$$\n",
      "\\Eof{S} \\approx M + \\frac s 2 \\,\\frac 4\\pi \\,\\arctan I.\n",
      "$$\n",
      "\n",
      "where $M$ is the mid-price, $s=A-B$, and the book imbalance is given by\n",
      "\n",
      "$$\n",
      "I = \\frac{Q_B-Q_A}{Q_B + Q_A}.\n",
      "$$\n",
      "\n",
      "Assume that $S$ is normally distributed with variance $\\sigma^2$, that the dealer has exponential utility, and that his current inventory is $q$.\n",
      "\n",
      "### 3.a\n",
      "\n",
      "Use your answer to Problem 2 to show that the indifference size $n_B$ the dealer should quote at the bid $B$ is given by\n",
      "\n",
      "$$\n",
      "n_B = \\frac{s}{\\alpha\\,\\sigma^2}\\,\\left(  1+\\frac 4 \\pi \\,\\arctan I \\right) - 2\\,q.\n",
      "$$"
     ]
    },
    {
     "cell_type": "markdown",
     "metadata": {},
     "source": [
      "### <font color = \"blue\">Solution:\n",
      "<font color = \"blue\">\n",
      "Using the conclusion of Problem 2:\n",
      "\n",
      "$$\n",
      "B = \\mu - \\frac {\\alpha}{2}(n_B + 2q)\\sigma^2\n",
      "$$\n",
      "\n",
      "or:\n",
      "$$\n",
      "n_B = \\frac {2\\times(\\mu - B) }{\\alpha\\sigma^2} - 2q\n",
      "$$\n",
      "\n",
      "Plug in\n",
      "$$\n",
      "\\mu = \\E[S]\\approx M + \\frac s 2 \\frac 4\\pi \\arctan I\n",
      "$$\n",
      "\n",
      "We derive the answer:\n",
      "$$\n",
      "n_B = \\frac s{\\alpha\\sigma^2}(1 + \\frac4\\pi \\,\\arctan I) - 2q \n",
      "$$"
     ]
    },
    {
     "cell_type": "markdown",
     "metadata": {},
     "source": [
      "### 3.b\n",
      "Derive a similar formula for the indifference offered quantity $n_A$."
     ]
    },
    {
     "cell_type": "markdown",
     "metadata": {},
     "source": [
      "### <font color = \"blue\"> Solution:\n",
      "<font color = \"blue\">\n",
      "Same process as part a, we are able to derive:\n",
      "$$\n",
      "n_A = \\frac s{\\alpha\\sigma^2}(1 - \\frac4\\pi \\arctan I) + 2q\n",
      "$$"
     ]
    },
    {
     "cell_type": "markdown",
     "metadata": {},
     "source": [
      "### 3.c\n",
      "Give your intuition for the sensitivities of $n_B$ and $n_A$ to each of the various inputs."
     ]
    },
    {
     "cell_type": "markdown",
     "metadata": {},
     "source": [
      "###<font color = \"blue\"> Solution:\n",
      "<font color = \"blue\">\n",
      "\n",
      "#### Current Inventory $q$\n",
      "\n",
      "The larger the current inventory, the smaller the quantity $n_B$, which implies the less the dealer should buy; on the other hand, the larger the current inventory, the larger the quantity $n_A$, which implies the more the dealer should sell.\n",
      "\n",
      "#### Book Imbalance $I$\n",
      "\n",
      "The larger the book imbalance, the larger the quantity $n_B$, while the smaller the quantity $n_A$, which implies bid shares $Q_B$ is far larger than ask shares $Q_A$, the dealer should buy more and short less to maximize profits.\n",
      "\n",
      "#### Spread $s$\n",
      "\n",
      "The larger the spread, the larger for both quantity $n_A$ and $n_B$, which implies dealer should buy and sell more to maximize profits.\n",
      "\n",
      "#### Variance $\\sigma^2$\n",
      "The larger the variance, the smaller for both quantity $n_A$ and $n_B$, which implies dealer should buy and sell less as the risk gets larger.\n",
      "\n",
      "#### Risk reverse factor $\\alpha$\n",
      "The larger the risk reverse factor, the smaller for both quantity $n_A$ and $n_B$, which implies dealer would buy and sell less  as he becomes more risk averse."
     ]
    },
    {
     "cell_type": "markdown",
     "metadata": {},
     "source": [
      "## Avellaneda and Stoikov (2008)"
     ]
    },
    {
     "cell_type": "markdown",
     "metadata": {},
     "source": [
      "### Question 4\n",
      "According to the lecture slides, in the Avellaneda and Stoikov model, the optimal bid and ask prices are given in terms of market order arrival rates by\n",
      "\n",
      "$$\n",
      "B=r_B-\\frac{1}{\\alpha}\\,\\log\\left(1 - \\alpha\\,\\frac{{\\lambda_B}(S-B)}{\\lambda_B'(S-B)}\\right).\n",
      "$$\n",
      "\n",
      "Similarly, the optimal ask price is given by\n",
      "\n",
      "$$\n",
      "A = r_A + \\frac{1}{\\alpha}\\,\\log\\left(1 - \\alpha\\,\\frac{{\\lambda_A}(A-S)}{\\lambda_A'(A-S)}\\right).\n",
      "$$\n",
      "\n",
      "where $A= S+\\delta_A$ and $B= S-\\delta_B$.\n",
      "\n",
      "Suppose that arrival rates of orders (symmetric between market buys and sells) are given by\n",
      "\n",
      "$$\n",
      "\\lambda(\\delta) = e^{-k \\delta \\pm \\beta\\,q}\n",
      "$$\n",
      "\n",
      "for some constant $\\beta>0$ that reflects adverse selection (i.e., the longer you are, the more market sell orders arrive).\n",
      "\n",
      "###4.a\n",
      "Write down expressions for $A$ and $B$ in terms of $r_A$, $r_B$, $k$, $\\beta$ and $q$."
     ]
    },
    {
     "cell_type": "markdown",
     "metadata": {},
     "source": [
      "###<font color = \"blue\">Solution:\n",
      "\n",
      "<font color = \"blue\">\n",
      "Put the expression of arrival rates into expressions of optimal bid and ask prices, we derive:\n",
      "\\begin{eqnarray}\n",
      "A &=& r_A - \\frac1{\\alpha} \\,\\log (1 + \\frac{\\alpha}{k-\\beta q'}) \\\\\n",
      "B &=& r_B - \\frac1{\\alpha} \\,\\log (1 + \\frac{\\alpha}{k+\\beta q'}) \n",
      "\\end{eqnarray}\n",
      "where $q$ has not been assumed as a constant w.r.t $\\delta$, so\n",
      "$$q' = \\frac{\\partial{q}}{\\partial{\\delta}}$$\n",
      "\n",
      "if $q$ is a constant w.r.t $\\delta$, then\n",
      "\\begin{eqnarray}\n",
      "A &=& r_A - \\frac1{\\alpha} \\,\\log (1 + \\frac{\\alpha}{k}) \\\\\n",
      "B &=& r_B - \\frac1{\\alpha} \\,\\log (1 + \\frac{\\alpha}{k}) \n",
      "\\end{eqnarray}"
     ]
    },
    {
     "cell_type": "markdown",
     "metadata": {},
     "source": [
      "###4.b\n",
      "How does the optimal spread depend on $q$?"
     ]
    },
    {
     "cell_type": "markdown",
     "metadata": {},
     "source": [
      "### <font color = \"blue\">Solution:\n",
      "\n",
      "<font color = \"blue\">\n",
      "The spread is defined as of\n",
      "\n",
      "$$A-B = r_A - r_B + \\frac 2 a log (1 + \\frac \\alpha k)$$\n",
      "\n",
      "which does not depend on $q$. But actually the spread will be influenced by q through how q affects $r_A$ and $r_B$, the reservation price $r_A$ and $r_B$ depends on the adverse selection."
     ]
    },
    {
     "cell_type": "markdown",
     "metadata": {},
     "source": [
      "###4.c\n",
      "Conjecture how the reservation prices $r_A$ and $r_B$ should depend on $q$ if there is adverse selection."
     ]
    },
    {
     "cell_type": "markdown",
     "metadata": {},
     "source": [
      "### <font color = \"blue\"> Solution:\n",
      "<font color = \"blue\">\n",
      "The reservation prices w.r.t $q$ are:\n",
      "\n",
      "\\begin{eqnarray}\n",
      "r_B(t,x,S,q) &=& S - \\frac{\\alpha}{2}\\,(2\\,q+1)\\,\\sigma^2\\,(T-t) \\\\\n",
      "r_A(t,x,S,q) &=& S + \\frac{\\alpha}{2}\\,(-2\\,q+1)\\,\\sigma^2\\,(T-t)\n",
      "\\end{eqnarray}\n",
      "\n",
      "It seems the larger the current inventory $q$, the smaller for both $r_B$ and $r_A$. But in sense, the spread would be increased by market maker, which could compensate their risk aversion."
     ]
    }
   ],
   "metadata": {}
  }
 ]
}